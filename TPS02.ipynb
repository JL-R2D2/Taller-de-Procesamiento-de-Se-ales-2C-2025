{
  "cells": [
    {
      "cell_type": "code",
      "execution_count": 36,
      "metadata": {
        "colab": {
          "base_uri": "https://localhost:8080/"
        },
        "id": "2U1VrfLcwPTg",
        "outputId": "a0b1c507-0373-4595-cb76-11b41aef53cc"
      },
      "outputs": [
        {
          "name": "stdout",
          "output_type": "stream",
          "text": [
            "1.5.2\n"
          ]
        }
      ],
      "source": [
        "import pandas as pd\n",
        "import numpy as np\n",
        "from sklearn import datasets,set_config\n",
        "from sklearn.preprocessing import OneHotEncoder,PolynomialFeatures,StandardScaler\n",
        "from sklearn.compose import ColumnTransformer\n",
        "from sklearn.linear_model import LinearRegression,Ridge,RidgeCV\n",
        "from sklearn.pipeline import Pipeline\n",
        "from sklearn.metrics import mean_squared_error\n",
        "import sklearn\n",
        "from IPython.display import display\n",
        "import matplotlib.pyplot as plt\n",
        "print(sklearn.__version__)"
      ]
    },
    {
      "cell_type": "code",
      "execution_count": 37,
      "metadata": {
        "colab": {
          "base_uri": "https://localhost:8080/"
        },
        "id": "dLQA2MuFiLFN",
        "outputId": "e5aa936f-ebdd-4952-a449-47aa07d99fa0"
      },
      "outputs": [
        {
          "name": "stdout",
          "output_type": "stream",
          "text": [
            "   Year  Selling_Price  Present_Price  Kms_Driven Fuel_Type Seller_Type  \\\n",
            "0  2014           3.35           5.59       27000    Petrol      Dealer   \n",
            "1  2013           4.75           9.54       43000    Diesel      Dealer   \n",
            "2  2017           7.25           9.85        6900    Petrol      Dealer   \n",
            "3  2011           2.85           4.15        5200    Petrol      Dealer   \n",
            "4  2014           4.60           6.87       42450    Diesel      Dealer   \n",
            "\n",
            "  Transmission    Set  \n",
            "0       Manual  Train  \n",
            "1       Manual  Train  \n",
            "2       Manual  Train  \n",
            "3       Manual  Train  \n",
            "4       Manual   Test  \n"
          ]
        },
        {
          "name": "stderr",
          "output_type": "stream",
          "text": [
            "  % Total    % Received % Xferd  Average Speed   Time    Time     Time  Current\n",
            "                                 Dload  Upload   Total   Spent    Left  Speed\n",
            "\n",
            "  0     0    0     0    0     0      0      0 --:--:-- --:--:-- --:--:--     0\n",
            "  0     0    0     0    0     0      0      0 --:--:-- --:--:-- --:--:--     0\n",
            "curl: (35) schannel: next InitializeSecurityContext failed: CRYPT_E_NO_REVOCATION_CHECK (0x80092012) - La funci�n de revocaci�n no puede comprobar la revocaci�n para el certificado.\n"
          ]
        }
      ],
      "source": [
        "# Leer el archivo CSV\n",
        "!curl -O \"https://raw.githubusercontent.com/mvera1412/TA136-TB056-TB057-8625/refs/heads/main/data/car_data.csv\"\n",
        "\n",
        "df = pd.read_csv(\"car_data.csv\")\n",
        "\n",
        "# Opción 1: eliminar por índice de columna (la primera es 0, la novena es 8)\n",
        "df = df.drop(df.columns[[0, 8]], axis=1)\n",
        "\n",
        "# Verificar el resultado\n",
        "print(df.head())\n"
      ]
    },
    {
      "cell_type": "markdown",
      "metadata": {
        "id": "mvkZnjCi_EjH"
      },
      "source": [
        "Primero, se debe separar el conjunto de datos en tres subgrupos Train, Valid y Test. Para esto, se revisa la última columna del dataframe y en función de que palabra se halle construyo nuevas matrices."
      ]
    },
    {
      "cell_type": "code",
      "execution_count": 38,
      "metadata": {
        "id": "yGbEgdlrln8y"
      },
      "outputs": [],
      "source": [
        "\n",
        "# Ver los valores únicos de la última columna\n",
        "ultima_columna = df.columns[-1]\n",
        "\n",
        "# Crear tres DataFrames separados según el valor de la última columna\n",
        "mtrain = df[df[ultima_columna] == \"Train\"]\n",
        "mvalid = df[df[ultima_columna] == \"Validation\"]\n",
        "mtest = df[df[ultima_columna] == \"Test\"]\n"
      ]
    },
    {
      "cell_type": "code",
      "execution_count": 39,
      "metadata": {
        "colab": {
          "base_uri": "https://localhost:8080/"
        },
        "id": "xaqRNVinoKVN",
        "outputId": "27aa1ae8-fb51-4dba-a202-fc6202b0c88d"
      },
      "outputs": [
        {
          "name": "stdout",
          "output_type": "stream",
          "text": [
            "     Year  Selling_Price  Present_Price  Kms_Driven Fuel_Type Seller_Type  \\\n",
            "0    2014           3.35           5.59       27000    Petrol      Dealer   \n",
            "1    2013           4.75           9.54       43000    Diesel      Dealer   \n",
            "2    2017           7.25           9.85        6900    Petrol      Dealer   \n",
            "3    2011           2.85           4.15        5200    Petrol      Dealer   \n",
            "5    2018           9.25           9.83        2071    Diesel      Dealer   \n",
            "..    ...            ...            ...         ...       ...         ...   \n",
            "296  2016           9.50          11.60       33988    Diesel      Dealer   \n",
            "297  2015           4.00           5.90       60000    Petrol      Dealer   \n",
            "298  2009           3.35          11.00       87934    Petrol      Dealer   \n",
            "299  2017          11.50          12.50        9000    Diesel      Dealer   \n",
            "300  2016           5.30           5.90        5464    Petrol      Dealer   \n",
            "\n",
            "    Transmission    Set  \n",
            "0         Manual  Train  \n",
            "1         Manual  Train  \n",
            "2         Manual  Train  \n",
            "3         Manual  Train  \n",
            "5         Manual  Train  \n",
            "..           ...    ...  \n",
            "296       Manual  Train  \n",
            "297       Manual  Train  \n",
            "298       Manual  Train  \n",
            "299       Manual  Train  \n",
            "300       Manual  Train  \n",
            "\n",
            "[270 rows x 8 columns]\n",
            "fin matriz Train\n",
            "     Year  Selling_Price  Present_Price  Kms_Driven Fuel_Type Seller_Type  \\\n",
            "23   2014           2.50          3.460       45280    Petrol      Dealer   \n",
            "24   2013           2.90          4.410       56879    Petrol      Dealer   \n",
            "46   2013           2.65          4.890       64532    Petrol      Dealer   \n",
            "76   2013           5.50         14.680       72000    Petrol      Dealer   \n",
            "91   2014          11.25         16.090       58242    Diesel      Dealer   \n",
            "131  2015           0.75          0.820       18000    Petrol  Individual   \n",
            "161  2014           0.45          0.826       23000    Petrol  Individual   \n",
            "220  2017           3.50          4.430       38488    Petrol      Dealer   \n",
            "253  2014           7.20          9.900       48000    Diesel      Dealer   \n",
            "260  2016           9.15         13.600       29223    Petrol      Dealer   \n",
            "\n",
            "    Transmission         Set  \n",
            "23        Manual  Validation  \n",
            "24        Manual  Validation  \n",
            "46        Manual  Validation  \n",
            "76        Manual  Validation  \n",
            "91        Manual  Validation  \n",
            "131       Manual  Validation  \n",
            "161       Manual  Validation  \n",
            "220       Manual  Validation  \n",
            "253       Manual  Validation  \n",
            "260       Manual  Validation  \n",
            "fin matriz Validation\n",
            "     Year  Selling_Price  Present_Price  Kms_Driven Fuel_Type Seller_Type  \\\n",
            "4    2014           4.60           6.87       42450    Diesel      Dealer   \n",
            "28   2010           1.95           3.95       44542    Petrol      Dealer   \n",
            "47   2006           1.05           4.15       65000    Petrol      Dealer   \n",
            "49   2017           7.75           9.29       37000    Petrol      Dealer   \n",
            "99   2010           9.65          20.45       50024    Diesel      Dealer   \n",
            "145  2012           0.60           0.81       19000    Petrol  Individual   \n",
            "171  2015           0.40           0.55        6700    Petrol  Individual   \n",
            "177  2016           0.35           0.57       24000    Petrol  Individual   \n",
            "184  2008           0.25           0.75       26000    Petrol  Individual   \n",
            "187  2013           0.25           0.51       32000    Petrol  Individual   \n",
            "205  2016           5.25           5.70        3493    Petrol      Dealer   \n",
            "211  2015          11.75          14.79       43535    Diesel      Dealer   \n",
            "213  2011           2.90           6.79       31604    Petrol      Dealer   \n",
            "215  2012           4.50           9.40       36100    Petrol      Dealer   \n",
            "244  2013           5.95           9.40       49000    Diesel      Dealer   \n",
            "245  2012           5.20           9.40       71000    Diesel      Dealer   \n",
            "261  2016           5.50           5.97        5600    Petrol      Dealer   \n",
            "268  2017           4.80           5.80       19000    Petrol      Dealer   \n",
            "274  2014           5.30           6.80       16500    Petrol      Dealer   \n",
            "278  2016           6.00           8.40        4000    Petrol      Dealer   \n",
            "292  2016           6.40           8.40       12000    Petrol      Dealer   \n",
            "\n",
            "    Transmission   Set  \n",
            "4         Manual  Test  \n",
            "28        Manual  Test  \n",
            "47        Manual  Test  \n",
            "49     Automatic  Test  \n",
            "99        Manual  Test  \n",
            "145       Manual  Test  \n",
            "171       Manual  Test  \n",
            "177    Automatic  Test  \n",
            "184       Manual  Test  \n",
            "187       Manual  Test  \n",
            "205       Manual  Test  \n",
            "211       Manual  Test  \n",
            "213       Manual  Test  \n",
            "215       Manual  Test  \n",
            "244       Manual  Test  \n",
            "245       Manual  Test  \n",
            "261       Manual  Test  \n",
            "268       Manual  Test  \n",
            "274       Manual  Test  \n",
            "278       Manual  Test  \n",
            "292       Manual  Test  \n",
            "fin matriz Test\n"
          ]
        }
      ],
      "source": [
        "print(mtrain)\n",
        "print(\"fin matriz Train\")\n",
        "print(mvalid)\n",
        "print(\"fin matriz Validation\")\n",
        "print(mtest)\n",
        "print(\"fin matriz Test\")"
      ]
    },
    {
      "cell_type": "markdown",
      "metadata": {
        "id": "58mkB3x6oO8r"
      },
      "source": [
        "Del dataframe, se reconocen tres variables del tipo categórica: tipo de combustible ($C$), tipo de vendedor ($V$) y el tipo de transmisión ($T$)."
      ]
    },
    {
      "cell_type": "markdown",
      "metadata": {
        "id": "o-uYLAS2r805"
      },
      "source": [
        "Probabilidades de $T$"
      ]
    },
    {
      "cell_type": "code",
      "execution_count": 40,
      "metadata": {
        "colab": {
          "base_uri": "https://localhost:8080/"
        },
        "id": "ICIPrmpDpGEB",
        "outputId": "668eb0f2-3657-4010-bf43-4a71fac87290"
      },
      "outputs": [
        {
          "name": "stdout",
          "output_type": "stream",
          "text": [
            "la probabilidad de que la transimisión sea automática es 0.132890365448505\n",
            "la probabilidad de que la transimisión sea manual es 0.867109634551495\n"
          ]
        }
      ],
      "source": [
        "tm = (df.iloc[:, -2] == \"Manual\").sum() / len(df)\n",
        "ta= (df.iloc[:, -2] == \"Automatic\").sum() / len(df)\n",
        "\n",
        "print(\"la probabilidad de que la transimisión sea automática es\", ta)\n",
        "print(\"la probabilidad de que la transimisión sea manual es\", tm)"
      ]
    },
    {
      "cell_type": "markdown",
      "metadata": {
        "id": "_8GWLRHHsA9i"
      },
      "source": [
        "Probabilidades de $V$"
      ]
    },
    {
      "cell_type": "code",
      "execution_count": 41,
      "metadata": {
        "colab": {
          "base_uri": "https://localhost:8080/"
        },
        "id": "A2aJYveksHif",
        "outputId": "67d03cab-74bc-4f70-b327-784b47c8fc43"
      },
      "outputs": [
        {
          "name": "stdout",
          "output_type": "stream",
          "text": [
            "La probabilidad de que el tipo de vendedor sea dealer es 0.6478405315614618\n",
            "La probabilidad de que el tipo de vendedor sea  individual es 0.3521594684385382\n"
          ]
        }
      ],
      "source": [
        "vd = (df.iloc[:, -3] == \"Dealer\").sum() / len(df)\n",
        "vi= (df.iloc[:, -3] == \"Individual\").sum() / len(df)\n",
        "\n",
        "print(\"La probabilidad de que el tipo de vendedor sea dealer es\", vd)\n",
        "print(\"La probabilidad de que el tipo de vendedor sea  individual es\", vi)"
      ]
    },
    {
      "cell_type": "markdown",
      "metadata": {
        "id": "hjx_3FAUstd1"
      },
      "source": [
        "Probabilidades de $C$"
      ]
    },
    {
      "cell_type": "code",
      "execution_count": 42,
      "metadata": {
        "colab": {
          "base_uri": "https://localhost:8080/"
        },
        "id": "635hTs_NtDth",
        "outputId": "9fb34eca-9b3a-4885-c353-7f3008e011e1"
      },
      "outputs": [
        {
          "name": "stdout",
          "output_type": "stream",
          "text": [
            "La probabilidad de que el tipo de combustible sea petróleo es 0.7940199335548173\n",
            "La probabilidad de que el tipo de combustible sea diesel es 0.19933554817275748\n",
            "La probabilidad de que el tipo de combustible sea CNG es 0.006644518272425249\n"
          ]
        }
      ],
      "source": [
        "cp = (df.iloc[:, -4] == \"Petrol\").sum() / len(df)\n",
        "cd= (df.iloc[:, -4] == \"Diesel\").sum() / len(df)\n",
        "cc = (df.iloc[:, -4] == \"CNG\").sum() / len(df)\n",
        "\n",
        "\n",
        "print(\"La probabilidad de que el tipo de combustible sea petróleo es\", cp)\n",
        "print(\"La probabilidad de que el tipo de combustible sea diesel es\", cd)\n",
        "print(\"La probabilidad de que el tipo de combustible sea CNG es\", cc)"
      ]
    },
    {
      "cell_type": "markdown",
      "metadata": {
        "id": "OA_D3LQc_zEX"
      },
      "source": [
        "Estas probabilidaes se calcularon a partir del dataframe completo, para que resultaran los más acertadas posibles."
      ]
    },
    {
      "cell_type": "markdown",
      "metadata": {
        "id": "ufoytu7pxNg5"
      },
      "source": [
        "#b) $Pre$-$Procesamiento$\n",
        "\n",
        "El comando _OneHotEncoder_ se encarga de ,en una matriz, tomar las columnas que recibe como parámetro y encodificarlas como OneHot. Estas columnas que recibe deben ser variables del tipo categórica, y en función de si son binarias o no reciben un distinto proceso. Para las variables binarias, simplemente se reemplaza el valor de una columna por un cero o un uno, para representar cada caso de la variable. Para el caso de las variables que tienen tres categorías o más posibles, se toma el número de categorías de dicha variable y se crea ese mismo número de columnas, las cuales se completan con ceros y unos para indicar que categoría es la que corresponde a la variable en esa fila."
      ]
    },
    {
      "cell_type": "code",
      "execution_count": 43,
      "metadata": {
        "colab": {
          "base_uri": "https://localhost:8080/"
        },
        "id": "I54sgb2huew6",
        "outputId": "5032e3ed-45fc-40d3-eee3-22106bcd2bfc"
      },
      "outputs": [
        {
          "name": "stdout",
          "output_type": "stream",
          "text": [
            "[[0. 0. 1. 0. 1.]\n",
            " [0. 1. 0. 0. 1.]\n",
            " [0. 0. 1. 0. 1.]\n",
            " ...\n",
            " [0. 0. 1. 0. 1.]\n",
            " [0. 1. 0. 0. 1.]\n",
            " [0. 0. 1. 0. 1.]]\n",
            "[array(['CNG', 'Diesel', 'Petrol'], dtype=object), array(['Dealer', 'Individual'], dtype=object), array(['Automatic', 'Manual'], dtype=object)]\n"
          ]
        }
      ],
      "source": [
        "cat = ['Fuel_Type', 'Seller_Type','Transmission'] #Vector con todas mis variables categóricas\n",
        "\n",
        "\n",
        "encoder =OneHotEncoder(sparse_output = False, drop = 'if_binary')#El 'if_binary' es para las variables binarias, no crear columnas innecesarias\n",
        "mtrain_fit = encoder.fit_transform(mtrain[cat])\n",
        "print(mtrain_fit)\n",
        "print(encoder.categories_)"
      ]
    },
    {
      "cell_type": "markdown",
      "metadata": {
        "id": "glVjj6j_z6gD"
      },
      "source": [
        "Con este bloque de código, se creó una nueva matriz a partir de los datos de training, la cual está formada por las columnas de Transmision, tipo de vendedor y otras tres columnas para el tipo de combustible."
      ]
    },
    {
      "cell_type": "markdown",
      "metadata": {
        "id": "Xqv2r_OK03FT"
      },
      "source": [
        "El comando _PolynomialFeatures_ se encarga de crear un mapa polinómico, cuyo orden es un parámetro, al igual que la existencia de un sesgo del mismo.\n",
        "Luego, a partir del mapa creado, se pueden transformar las columnas de la matriz. Las columnas transformadas se corresponden a varaiables numéricas."
      ]
    },
    {
      "cell_type": "code",
      "execution_count": 44,
      "metadata": {
        "colab": {
          "base_uri": "https://localhost:8080/"
        },
        "id": "svjfPRHt0frx",
        "outputId": "61e84c5d-f203-4a93-a545-5d865f35591d"
      },
      "outputs": [
        {
          "name": "stdout",
          "output_type": "stream",
          "text": [
            "[[2.01400000e+03 5.59000000e+00 2.70000000e+04 ... 8.43698700e+05\n",
            "  4.07511000e+09 1.96830000e+13]\n",
            " [2.01300000e+03 9.54000000e+00 4.30000000e+04 ... 3.91349880e+06\n",
            "  1.76394600e+10 7.95070000e+13]\n",
            " [2.01700000e+03 9.85000000e+00 6.90000000e+03 ... 6.69455250e+05\n",
            "  4.68958500e+08 3.28509000e+11]\n",
            " ...\n",
            " [2.00900000e+03 1.10000000e+01 8.79340000e+04 ... 1.06400140e+07\n",
            "  8.50562719e+10 6.79939838e+14]\n",
            " [2.01700000e+03 1.25000000e+01 9.00000000e+03 ... 1.40625000e+06\n",
            "  1.01250000e+09 7.29000000e+11]\n",
            " [2.01600000e+03 5.90000000e+00 5.46400000e+03 ... 1.90201840e+05\n",
            "  1.76146246e+08 1.63129337e+11]]\n"
          ]
        }
      ],
      "source": [
        "num=['Year','Present_Price','Kms_Driven']\n",
        "poly =PolynomialFeatures(degree = 3, include_bias = False) #El bias acá no es necesario, porque cuando normalice va a desaparecer\n",
        "mpoly = poly.fit_transform(mtrain[num])\n",
        "print(mpoly)"
      ]
    },
    {
      "cell_type": "markdown",
      "metadata": {
        "id": "rypuH84l2niU"
      },
      "source": [
        "El comando _ColumnTransformer_ es una clase, que funciona de forma similar a pipeline. En esencia, se define una serie de transformaciones, el nombre de estas y a que columnas deben ser aplicadas."
      ]
    },
    {
      "cell_type": "code",
      "execution_count": 45,
      "metadata": {
        "colab": {
          "base_uri": "https://localhost:8080/"
        },
        "id": "rY4cN1wy2U9P",
        "outputId": "b4a5620b-d633-4d0c-e178-0b9736efcc97"
      },
      "outputs": [
        {
          "name": "stdout",
          "output_type": "stream",
          "text": [
            "(270, 24)\n"
          ]
        }
      ],
      "source": [
        "ct =ColumnTransformer(\n",
        "    #transformers = [(nombre, función a aplicar, nombres de las columnas a transformar)]\n",
        "    transformers = [\n",
        "        ('PolynomialMap', PolynomialFeatures(degree = 3, include_bias = False), num),\n",
        "        ('OneHotEncoded', OneHotEncoder(sparse_output = False, drop = 'if_binary'), cat)\n",
        "\n",
        "    ]\n",
        ")\n",
        "\n",
        "mtrain_ct = ct.fit_transform(mtrain)\n",
        "print(mtrain_ct.shape)"
      ]
    },
    {
      "cell_type": "markdown",
      "metadata": {
        "id": "tZgEbkns4Vgb"
      },
      "source": [
        "Este comando resulta muy útil para compactar los procesos en el código que normalmente ocuparían varios bloques de código."
      ]
    },
    {
      "cell_type": "markdown",
      "metadata": {
        "id": "-9XcPln25ACD"
      },
      "source": [
        "Como último paso del pre-procesamiento, uso $StandardScaler$. Se encarga de escalar y normalizar la matriz para utilizar valores que estén comprendidos dentro del mismo rango de varianza."
      ]
    },
    {
      "cell_type": "code",
      "execution_count": 46,
      "metadata": {
        "colab": {
          "base_uri": "https://localhost:8080/"
        },
        "id": "TATz0LAk3l-O",
        "outputId": "228b3924-7bc7-414a-f655-d53e8c0e39bf"
      },
      "outputs": [
        {
          "name": "stdout",
          "output_type": "stream",
          "text": [
            "[[ 0.12687127 -0.23808975 -0.25086677 ...  0.50578054 -0.76088591\n",
            "   0.40471361]\n",
            " [-0.21568117  0.20350422  0.14481679 ... -1.97714211 -0.76088591\n",
            "   0.40471361]\n",
            " [ 1.1545286   0.23816097 -0.74794424 ...  0.50578054 -0.76088591\n",
            "   0.40471361]\n",
            " ...\n",
            " [-1.58589094  0.3667263   1.25604461 ...  0.50578054 -0.76088591\n",
            "   0.40471361]\n",
            " [ 1.1545286   0.53442021 -0.69601077 ... -1.97714211 -0.76088591\n",
            "   0.40471361]\n",
            " [ 0.81197616 -0.20343301 -0.78345684 ...  0.50578054 -0.76088591\n",
            "   0.40471361]]\n"
          ]
        }
      ],
      "source": [
        "sscaler =StandardScaler()\n",
        "train_comp = sscaler.fit_transform(mtrain_ct)\n",
        "print(train_comp)\n"
      ]
    },
    {
      "cell_type": "code",
      "execution_count": 47,
      "metadata": {
        "colab": {
          "base_uri": "https://localhost:8080/",
          "height": 286
        },
        "id": "HZOILqfo6TSl",
        "outputId": "6a2fc1f6-91c8-438d-e660-6d5b4f5ad6a5"
      },
      "outputs": [
        {
          "data": {
            "text/html": [
              "<style>#sk-container-id-4 {\n",
              "  /* Definition of color scheme common for light and dark mode */\n",
              "  --sklearn-color-text: black;\n",
              "  --sklearn-color-line: gray;\n",
              "  /* Definition of color scheme for unfitted estimators */\n",
              "  --sklearn-color-unfitted-level-0: #fff5e6;\n",
              "  --sklearn-color-unfitted-level-1: #f6e4d2;\n",
              "  --sklearn-color-unfitted-level-2: #ffe0b3;\n",
              "  --sklearn-color-unfitted-level-3: chocolate;\n",
              "  /* Definition of color scheme for fitted estimators */\n",
              "  --sklearn-color-fitted-level-0: #f0f8ff;\n",
              "  --sklearn-color-fitted-level-1: #d4ebff;\n",
              "  --sklearn-color-fitted-level-2: #b3dbfd;\n",
              "  --sklearn-color-fitted-level-3: cornflowerblue;\n",
              "\n",
              "  /* Specific color for light theme */\n",
              "  --sklearn-color-text-on-default-background: var(--sg-text-color, var(--theme-code-foreground, var(--jp-content-font-color1, black)));\n",
              "  --sklearn-color-background: var(--sg-background-color, var(--theme-background, var(--jp-layout-color0, white)));\n",
              "  --sklearn-color-border-box: var(--sg-text-color, var(--theme-code-foreground, var(--jp-content-font-color1, black)));\n",
              "  --sklearn-color-icon: #696969;\n",
              "\n",
              "  @media (prefers-color-scheme: dark) {\n",
              "    /* Redefinition of color scheme for dark theme */\n",
              "    --sklearn-color-text-on-default-background: var(--sg-text-color, var(--theme-code-foreground, var(--jp-content-font-color1, white)));\n",
              "    --sklearn-color-background: var(--sg-background-color, var(--theme-background, var(--jp-layout-color0, #111)));\n",
              "    --sklearn-color-border-box: var(--sg-text-color, var(--theme-code-foreground, var(--jp-content-font-color1, white)));\n",
              "    --sklearn-color-icon: #878787;\n",
              "  }\n",
              "}\n",
              "\n",
              "#sk-container-id-4 {\n",
              "  color: var(--sklearn-color-text);\n",
              "}\n",
              "\n",
              "#sk-container-id-4 pre {\n",
              "  padding: 0;\n",
              "}\n",
              "\n",
              "#sk-container-id-4 input.sk-hidden--visually {\n",
              "  border: 0;\n",
              "  clip: rect(1px 1px 1px 1px);\n",
              "  clip: rect(1px, 1px, 1px, 1px);\n",
              "  height: 1px;\n",
              "  margin: -1px;\n",
              "  overflow: hidden;\n",
              "  padding: 0;\n",
              "  position: absolute;\n",
              "  width: 1px;\n",
              "}\n",
              "\n",
              "#sk-container-id-4 div.sk-dashed-wrapped {\n",
              "  border: 1px dashed var(--sklearn-color-line);\n",
              "  margin: 0 0.4em 0.5em 0.4em;\n",
              "  box-sizing: border-box;\n",
              "  padding-bottom: 0.4em;\n",
              "  background-color: var(--sklearn-color-background);\n",
              "}\n",
              "\n",
              "#sk-container-id-4 div.sk-container {\n",
              "  /* jupyter's `normalize.less` sets `[hidden] { display: none; }`\n",
              "     but bootstrap.min.css set `[hidden] { display: none !important; }`\n",
              "     so we also need the `!important` here to be able to override the\n",
              "     default hidden behavior on the sphinx rendered scikit-learn.org.\n",
              "     See: https://github.com/scikit-learn/scikit-learn/issues/21755 */\n",
              "  display: inline-block !important;\n",
              "  position: relative;\n",
              "}\n",
              "\n",
              "#sk-container-id-4 div.sk-text-repr-fallback {\n",
              "  display: none;\n",
              "}\n",
              "\n",
              "div.sk-parallel-item,\n",
              "div.sk-serial,\n",
              "div.sk-item {\n",
              "  /* draw centered vertical line to link estimators */\n",
              "  background-image: linear-gradient(var(--sklearn-color-text-on-default-background), var(--sklearn-color-text-on-default-background));\n",
              "  background-size: 2px 100%;\n",
              "  background-repeat: no-repeat;\n",
              "  background-position: center center;\n",
              "}\n",
              "\n",
              "/* Parallel-specific style estimator block */\n",
              "\n",
              "#sk-container-id-4 div.sk-parallel-item::after {\n",
              "  content: \"\";\n",
              "  width: 100%;\n",
              "  border-bottom: 2px solid var(--sklearn-color-text-on-default-background);\n",
              "  flex-grow: 1;\n",
              "}\n",
              "\n",
              "#sk-container-id-4 div.sk-parallel {\n",
              "  display: flex;\n",
              "  align-items: stretch;\n",
              "  justify-content: center;\n",
              "  background-color: var(--sklearn-color-background);\n",
              "  position: relative;\n",
              "}\n",
              "\n",
              "#sk-container-id-4 div.sk-parallel-item {\n",
              "  display: flex;\n",
              "  flex-direction: column;\n",
              "}\n",
              "\n",
              "#sk-container-id-4 div.sk-parallel-item:first-child::after {\n",
              "  align-self: flex-end;\n",
              "  width: 50%;\n",
              "}\n",
              "\n",
              "#sk-container-id-4 div.sk-parallel-item:last-child::after {\n",
              "  align-self: flex-start;\n",
              "  width: 50%;\n",
              "}\n",
              "\n",
              "#sk-container-id-4 div.sk-parallel-item:only-child::after {\n",
              "  width: 0;\n",
              "}\n",
              "\n",
              "/* Serial-specific style estimator block */\n",
              "\n",
              "#sk-container-id-4 div.sk-serial {\n",
              "  display: flex;\n",
              "  flex-direction: column;\n",
              "  align-items: center;\n",
              "  background-color: var(--sklearn-color-background);\n",
              "  padding-right: 1em;\n",
              "  padding-left: 1em;\n",
              "}\n",
              "\n",
              "\n",
              "/* Toggleable style: style used for estimator/Pipeline/ColumnTransformer box that is\n",
              "clickable and can be expanded/collapsed.\n",
              "- Pipeline and ColumnTransformer use this feature and define the default style\n",
              "- Estimators will overwrite some part of the style using the `sk-estimator` class\n",
              "*/\n",
              "\n",
              "/* Pipeline and ColumnTransformer style (default) */\n",
              "\n",
              "#sk-container-id-4 div.sk-toggleable {\n",
              "  /* Default theme specific background. It is overwritten whether we have a\n",
              "  specific estimator or a Pipeline/ColumnTransformer */\n",
              "  background-color: var(--sklearn-color-background);\n",
              "}\n",
              "\n",
              "/* Toggleable label */\n",
              "#sk-container-id-4 label.sk-toggleable__label {\n",
              "  cursor: pointer;\n",
              "  display: block;\n",
              "  width: 100%;\n",
              "  margin-bottom: 0;\n",
              "  padding: 0.5em;\n",
              "  box-sizing: border-box;\n",
              "  text-align: center;\n",
              "}\n",
              "\n",
              "#sk-container-id-4 label.sk-toggleable__label-arrow:before {\n",
              "  /* Arrow on the left of the label */\n",
              "  content: \"▸\";\n",
              "  float: left;\n",
              "  margin-right: 0.25em;\n",
              "  color: var(--sklearn-color-icon);\n",
              "}\n",
              "\n",
              "#sk-container-id-4 label.sk-toggleable__label-arrow:hover:before {\n",
              "  color: var(--sklearn-color-text);\n",
              "}\n",
              "\n",
              "/* Toggleable content - dropdown */\n",
              "\n",
              "#sk-container-id-4 div.sk-toggleable__content {\n",
              "  max-height: 0;\n",
              "  max-width: 0;\n",
              "  overflow: hidden;\n",
              "  text-align: left;\n",
              "  /* unfitted */\n",
              "  background-color: var(--sklearn-color-unfitted-level-0);\n",
              "}\n",
              "\n",
              "#sk-container-id-4 div.sk-toggleable__content.fitted {\n",
              "  /* fitted */\n",
              "  background-color: var(--sklearn-color-fitted-level-0);\n",
              "}\n",
              "\n",
              "#sk-container-id-4 div.sk-toggleable__content pre {\n",
              "  margin: 0.2em;\n",
              "  border-radius: 0.25em;\n",
              "  color: var(--sklearn-color-text);\n",
              "  /* unfitted */\n",
              "  background-color: var(--sklearn-color-unfitted-level-0);\n",
              "}\n",
              "\n",
              "#sk-container-id-4 div.sk-toggleable__content.fitted pre {\n",
              "  /* unfitted */\n",
              "  background-color: var(--sklearn-color-fitted-level-0);\n",
              "}\n",
              "\n",
              "#sk-container-id-4 input.sk-toggleable__control:checked~div.sk-toggleable__content {\n",
              "  /* Expand drop-down */\n",
              "  max-height: 200px;\n",
              "  max-width: 100%;\n",
              "  overflow: auto;\n",
              "}\n",
              "\n",
              "#sk-container-id-4 input.sk-toggleable__control:checked~label.sk-toggleable__label-arrow:before {\n",
              "  content: \"▾\";\n",
              "}\n",
              "\n",
              "/* Pipeline/ColumnTransformer-specific style */\n",
              "\n",
              "#sk-container-id-4 div.sk-label input.sk-toggleable__control:checked~label.sk-toggleable__label {\n",
              "  color: var(--sklearn-color-text);\n",
              "  background-color: var(--sklearn-color-unfitted-level-2);\n",
              "}\n",
              "\n",
              "#sk-container-id-4 div.sk-label.fitted input.sk-toggleable__control:checked~label.sk-toggleable__label {\n",
              "  background-color: var(--sklearn-color-fitted-level-2);\n",
              "}\n",
              "\n",
              "/* Estimator-specific style */\n",
              "\n",
              "/* Colorize estimator box */\n",
              "#sk-container-id-4 div.sk-estimator input.sk-toggleable__control:checked~label.sk-toggleable__label {\n",
              "  /* unfitted */\n",
              "  background-color: var(--sklearn-color-unfitted-level-2);\n",
              "}\n",
              "\n",
              "#sk-container-id-4 div.sk-estimator.fitted input.sk-toggleable__control:checked~label.sk-toggleable__label {\n",
              "  /* fitted */\n",
              "  background-color: var(--sklearn-color-fitted-level-2);\n",
              "}\n",
              "\n",
              "#sk-container-id-4 div.sk-label label.sk-toggleable__label,\n",
              "#sk-container-id-4 div.sk-label label {\n",
              "  /* The background is the default theme color */\n",
              "  color: var(--sklearn-color-text-on-default-background);\n",
              "}\n",
              "\n",
              "/* On hover, darken the color of the background */\n",
              "#sk-container-id-4 div.sk-label:hover label.sk-toggleable__label {\n",
              "  color: var(--sklearn-color-text);\n",
              "  background-color: var(--sklearn-color-unfitted-level-2);\n",
              "}\n",
              "\n",
              "/* Label box, darken color on hover, fitted */\n",
              "#sk-container-id-4 div.sk-label.fitted:hover label.sk-toggleable__label.fitted {\n",
              "  color: var(--sklearn-color-text);\n",
              "  background-color: var(--sklearn-color-fitted-level-2);\n",
              "}\n",
              "\n",
              "/* Estimator label */\n",
              "\n",
              "#sk-container-id-4 div.sk-label label {\n",
              "  font-family: monospace;\n",
              "  font-weight: bold;\n",
              "  display: inline-block;\n",
              "  line-height: 1.2em;\n",
              "}\n",
              "\n",
              "#sk-container-id-4 div.sk-label-container {\n",
              "  text-align: center;\n",
              "}\n",
              "\n",
              "/* Estimator-specific */\n",
              "#sk-container-id-4 div.sk-estimator {\n",
              "  font-family: monospace;\n",
              "  border: 1px dotted var(--sklearn-color-border-box);\n",
              "  border-radius: 0.25em;\n",
              "  box-sizing: border-box;\n",
              "  margin-bottom: 0.5em;\n",
              "  /* unfitted */\n",
              "  background-color: var(--sklearn-color-unfitted-level-0);\n",
              "}\n",
              "\n",
              "#sk-container-id-4 div.sk-estimator.fitted {\n",
              "  /* fitted */\n",
              "  background-color: var(--sklearn-color-fitted-level-0);\n",
              "}\n",
              "\n",
              "/* on hover */\n",
              "#sk-container-id-4 div.sk-estimator:hover {\n",
              "  /* unfitted */\n",
              "  background-color: var(--sklearn-color-unfitted-level-2);\n",
              "}\n",
              "\n",
              "#sk-container-id-4 div.sk-estimator.fitted:hover {\n",
              "  /* fitted */\n",
              "  background-color: var(--sklearn-color-fitted-level-2);\n",
              "}\n",
              "\n",
              "/* Specification for estimator info (e.g. \"i\" and \"?\") */\n",
              "\n",
              "/* Common style for \"i\" and \"?\" */\n",
              "\n",
              ".sk-estimator-doc-link,\n",
              "a:link.sk-estimator-doc-link,\n",
              "a:visited.sk-estimator-doc-link {\n",
              "  float: right;\n",
              "  font-size: smaller;\n",
              "  line-height: 1em;\n",
              "  font-family: monospace;\n",
              "  background-color: var(--sklearn-color-background);\n",
              "  border-radius: 1em;\n",
              "  height: 1em;\n",
              "  width: 1em;\n",
              "  text-decoration: none !important;\n",
              "  margin-left: 1ex;\n",
              "  /* unfitted */\n",
              "  border: var(--sklearn-color-unfitted-level-1) 1pt solid;\n",
              "  color: var(--sklearn-color-unfitted-level-1);\n",
              "}\n",
              "\n",
              ".sk-estimator-doc-link.fitted,\n",
              "a:link.sk-estimator-doc-link.fitted,\n",
              "a:visited.sk-estimator-doc-link.fitted {\n",
              "  /* fitted */\n",
              "  border: var(--sklearn-color-fitted-level-1) 1pt solid;\n",
              "  color: var(--sklearn-color-fitted-level-1);\n",
              "}\n",
              "\n",
              "/* On hover */\n",
              "div.sk-estimator:hover .sk-estimator-doc-link:hover,\n",
              ".sk-estimator-doc-link:hover,\n",
              "div.sk-label-container:hover .sk-estimator-doc-link:hover,\n",
              ".sk-estimator-doc-link:hover {\n",
              "  /* unfitted */\n",
              "  background-color: var(--sklearn-color-unfitted-level-3);\n",
              "  color: var(--sklearn-color-background);\n",
              "  text-decoration: none;\n",
              "}\n",
              "\n",
              "div.sk-estimator.fitted:hover .sk-estimator-doc-link.fitted:hover,\n",
              ".sk-estimator-doc-link.fitted:hover,\n",
              "div.sk-label-container:hover .sk-estimator-doc-link.fitted:hover,\n",
              ".sk-estimator-doc-link.fitted:hover {\n",
              "  /* fitted */\n",
              "  background-color: var(--sklearn-color-fitted-level-3);\n",
              "  color: var(--sklearn-color-background);\n",
              "  text-decoration: none;\n",
              "}\n",
              "\n",
              "/* Span, style for the box shown on hovering the info icon */\n",
              ".sk-estimator-doc-link span {\n",
              "  display: none;\n",
              "  z-index: 9999;\n",
              "  position: relative;\n",
              "  font-weight: normal;\n",
              "  right: .2ex;\n",
              "  padding: .5ex;\n",
              "  margin: .5ex;\n",
              "  width: min-content;\n",
              "  min-width: 20ex;\n",
              "  max-width: 50ex;\n",
              "  color: var(--sklearn-color-text);\n",
              "  box-shadow: 2pt 2pt 4pt #999;\n",
              "  /* unfitted */\n",
              "  background: var(--sklearn-color-unfitted-level-0);\n",
              "  border: .5pt solid var(--sklearn-color-unfitted-level-3);\n",
              "}\n",
              "\n",
              ".sk-estimator-doc-link.fitted span {\n",
              "  /* fitted */\n",
              "  background: var(--sklearn-color-fitted-level-0);\n",
              "  border: var(--sklearn-color-fitted-level-3);\n",
              "}\n",
              "\n",
              ".sk-estimator-doc-link:hover span {\n",
              "  display: block;\n",
              "}\n",
              "\n",
              "/* \"?\"-specific style due to the `<a>` HTML tag */\n",
              "\n",
              "#sk-container-id-4 a.estimator_doc_link {\n",
              "  float: right;\n",
              "  font-size: 1rem;\n",
              "  line-height: 1em;\n",
              "  font-family: monospace;\n",
              "  background-color: var(--sklearn-color-background);\n",
              "  border-radius: 1rem;\n",
              "  height: 1rem;\n",
              "  width: 1rem;\n",
              "  text-decoration: none;\n",
              "  /* unfitted */\n",
              "  color: var(--sklearn-color-unfitted-level-1);\n",
              "  border: var(--sklearn-color-unfitted-level-1) 1pt solid;\n",
              "}\n",
              "\n",
              "#sk-container-id-4 a.estimator_doc_link.fitted {\n",
              "  /* fitted */\n",
              "  border: var(--sklearn-color-fitted-level-1) 1pt solid;\n",
              "  color: var(--sklearn-color-fitted-level-1);\n",
              "}\n",
              "\n",
              "/* On hover */\n",
              "#sk-container-id-4 a.estimator_doc_link:hover {\n",
              "  /* unfitted */\n",
              "  background-color: var(--sklearn-color-unfitted-level-3);\n",
              "  color: var(--sklearn-color-background);\n",
              "  text-decoration: none;\n",
              "}\n",
              "\n",
              "#sk-container-id-4 a.estimator_doc_link.fitted:hover {\n",
              "  /* fitted */\n",
              "  background-color: var(--sklearn-color-fitted-level-3);\n",
              "}\n",
              "</style><div id=\"sk-container-id-4\" class=\"sk-top-container\"><div class=\"sk-text-repr-fallback\"><pre>Pipeline(steps=[(&#x27;Column Transformer&#x27;,\n",
              "                 ColumnTransformer(transformers=[(&#x27;PolynomialMap&#x27;,\n",
              "                                                  PolynomialFeatures(degree=3,\n",
              "                                                                     include_bias=False),\n",
              "                                                  [&#x27;Year&#x27;, &#x27;Present_Price&#x27;,\n",
              "                                                   &#x27;Kms_Driven&#x27;]),\n",
              "                                                 (&#x27;OneHotEncoded&#x27;,\n",
              "                                                  OneHotEncoder(drop=&#x27;if_binary&#x27;,\n",
              "                                                                sparse_output=False),\n",
              "                                                  [&#x27;Fuel_Type&#x27;, &#x27;Seller_Type&#x27;,\n",
              "                                                   &#x27;Transmission&#x27;])])),\n",
              "                (&#x27;Scaler&#x27;, StandardScaler()),\n",
              "                (&#x27;Regresion Lineal&#x27;, LinearRegression())])</pre><b>In a Jupyter environment, please rerun this cell to show the HTML representation or trust the notebook. <br />On GitHub, the HTML representation is unable to render, please try loading this page with nbviewer.org.</b></div><div class=\"sk-container\" hidden><div class=\"sk-item sk-dashed-wrapped\"><div class=\"sk-label-container\"><div class=\"sk-label  sk-toggleable\"><input class=\"sk-toggleable__control sk-hidden--visually\" id=\"sk-estimator-id-25\" type=\"checkbox\" ><label for=\"sk-estimator-id-25\" class=\"sk-toggleable__label  sk-toggleable__label-arrow \">&nbsp;&nbsp;Pipeline<a class=\"sk-estimator-doc-link \" rel=\"noreferrer\" target=\"_blank\" href=\"https://scikit-learn.org/1.5/modules/generated/sklearn.pipeline.Pipeline.html\">?<span>Documentation for Pipeline</span></a><span class=\"sk-estimator-doc-link \">i<span>Not fitted</span></span></label><div class=\"sk-toggleable__content \"><pre>Pipeline(steps=[(&#x27;Column Transformer&#x27;,\n",
              "                 ColumnTransformer(transformers=[(&#x27;PolynomialMap&#x27;,\n",
              "                                                  PolynomialFeatures(degree=3,\n",
              "                                                                     include_bias=False),\n",
              "                                                  [&#x27;Year&#x27;, &#x27;Present_Price&#x27;,\n",
              "                                                   &#x27;Kms_Driven&#x27;]),\n",
              "                                                 (&#x27;OneHotEncoded&#x27;,\n",
              "                                                  OneHotEncoder(drop=&#x27;if_binary&#x27;,\n",
              "                                                                sparse_output=False),\n",
              "                                                  [&#x27;Fuel_Type&#x27;, &#x27;Seller_Type&#x27;,\n",
              "                                                   &#x27;Transmission&#x27;])])),\n",
              "                (&#x27;Scaler&#x27;, StandardScaler()),\n",
              "                (&#x27;Regresion Lineal&#x27;, LinearRegression())])</pre></div> </div></div><div class=\"sk-serial\"><div class=\"sk-item sk-dashed-wrapped\"><div class=\"sk-label-container\"><div class=\"sk-label  sk-toggleable\"><input class=\"sk-toggleable__control sk-hidden--visually\" id=\"sk-estimator-id-26\" type=\"checkbox\" ><label for=\"sk-estimator-id-26\" class=\"sk-toggleable__label  sk-toggleable__label-arrow \">&nbsp;Column Transformer: ColumnTransformer<a class=\"sk-estimator-doc-link \" rel=\"noreferrer\" target=\"_blank\" href=\"https://scikit-learn.org/1.5/modules/generated/sklearn.compose.ColumnTransformer.html\">?<span>Documentation for Column Transformer: ColumnTransformer</span></a></label><div class=\"sk-toggleable__content \"><pre>ColumnTransformer(transformers=[(&#x27;PolynomialMap&#x27;,\n",
              "                                 PolynomialFeatures(degree=3,\n",
              "                                                    include_bias=False),\n",
              "                                 [&#x27;Year&#x27;, &#x27;Present_Price&#x27;, &#x27;Kms_Driven&#x27;]),\n",
              "                                (&#x27;OneHotEncoded&#x27;,\n",
              "                                 OneHotEncoder(drop=&#x27;if_binary&#x27;,\n",
              "                                               sparse_output=False),\n",
              "                                 [&#x27;Fuel_Type&#x27;, &#x27;Seller_Type&#x27;, &#x27;Transmission&#x27;])])</pre></div> </div></div><div class=\"sk-parallel\"><div class=\"sk-parallel-item\"><div class=\"sk-item\"><div class=\"sk-label-container\"><div class=\"sk-label  sk-toggleable\"><input class=\"sk-toggleable__control sk-hidden--visually\" id=\"sk-estimator-id-27\" type=\"checkbox\" ><label for=\"sk-estimator-id-27\" class=\"sk-toggleable__label  sk-toggleable__label-arrow \">PolynomialMap</label><div class=\"sk-toggleable__content \"><pre>[&#x27;Year&#x27;, &#x27;Present_Price&#x27;, &#x27;Kms_Driven&#x27;]</pre></div> </div></div><div class=\"sk-serial\"><div class=\"sk-item\"><div class=\"sk-estimator  sk-toggleable\"><input class=\"sk-toggleable__control sk-hidden--visually\" id=\"sk-estimator-id-28\" type=\"checkbox\" ><label for=\"sk-estimator-id-28\" class=\"sk-toggleable__label  sk-toggleable__label-arrow \">&nbsp;PolynomialFeatures<a class=\"sk-estimator-doc-link \" rel=\"noreferrer\" target=\"_blank\" href=\"https://scikit-learn.org/1.5/modules/generated/sklearn.preprocessing.PolynomialFeatures.html\">?<span>Documentation for PolynomialFeatures</span></a></label><div class=\"sk-toggleable__content \"><pre>PolynomialFeatures(degree=3, include_bias=False)</pre></div> </div></div></div></div></div><div class=\"sk-parallel-item\"><div class=\"sk-item\"><div class=\"sk-label-container\"><div class=\"sk-label  sk-toggleable\"><input class=\"sk-toggleable__control sk-hidden--visually\" id=\"sk-estimator-id-29\" type=\"checkbox\" ><label for=\"sk-estimator-id-29\" class=\"sk-toggleable__label  sk-toggleable__label-arrow \">OneHotEncoded</label><div class=\"sk-toggleable__content \"><pre>[&#x27;Fuel_Type&#x27;, &#x27;Seller_Type&#x27;, &#x27;Transmission&#x27;]</pre></div> </div></div><div class=\"sk-serial\"><div class=\"sk-item\"><div class=\"sk-estimator  sk-toggleable\"><input class=\"sk-toggleable__control sk-hidden--visually\" id=\"sk-estimator-id-30\" type=\"checkbox\" ><label for=\"sk-estimator-id-30\" class=\"sk-toggleable__label  sk-toggleable__label-arrow \">&nbsp;OneHotEncoder<a class=\"sk-estimator-doc-link \" rel=\"noreferrer\" target=\"_blank\" href=\"https://scikit-learn.org/1.5/modules/generated/sklearn.preprocessing.OneHotEncoder.html\">?<span>Documentation for OneHotEncoder</span></a></label><div class=\"sk-toggleable__content \"><pre>OneHotEncoder(drop=&#x27;if_binary&#x27;, sparse_output=False)</pre></div> </div></div></div></div></div></div></div><div class=\"sk-item\"><div class=\"sk-estimator  sk-toggleable\"><input class=\"sk-toggleable__control sk-hidden--visually\" id=\"sk-estimator-id-31\" type=\"checkbox\" ><label for=\"sk-estimator-id-31\" class=\"sk-toggleable__label  sk-toggleable__label-arrow \">&nbsp;StandardScaler<a class=\"sk-estimator-doc-link \" rel=\"noreferrer\" target=\"_blank\" href=\"https://scikit-learn.org/1.5/modules/generated/sklearn.preprocessing.StandardScaler.html\">?<span>Documentation for StandardScaler</span></a></label><div class=\"sk-toggleable__content \"><pre>StandardScaler()</pre></div> </div></div><div class=\"sk-item\"><div class=\"sk-estimator  sk-toggleable\"><input class=\"sk-toggleable__control sk-hidden--visually\" id=\"sk-estimator-id-32\" type=\"checkbox\" ><label for=\"sk-estimator-id-32\" class=\"sk-toggleable__label  sk-toggleable__label-arrow \">&nbsp;LinearRegression<a class=\"sk-estimator-doc-link \" rel=\"noreferrer\" target=\"_blank\" href=\"https://scikit-learn.org/1.5/modules/generated/sklearn.linear_model.LinearRegression.html\">?<span>Documentation for LinearRegression</span></a></label><div class=\"sk-toggleable__content \"><pre>LinearRegression()</pre></div> </div></div></div></div></div></div>"
            ],
            "text/plain": [
              "Pipeline(steps=[('Column Transformer',\n",
              "                 ColumnTransformer(transformers=[('PolynomialMap',\n",
              "                                                  PolynomialFeatures(degree=3,\n",
              "                                                                     include_bias=False),\n",
              "                                                  ['Year', 'Present_Price',\n",
              "                                                   'Kms_Driven']),\n",
              "                                                 ('OneHotEncoded',\n",
              "                                                  OneHotEncoder(drop='if_binary',\n",
              "                                                                sparse_output=False),\n",
              "                                                  ['Fuel_Type', 'Seller_Type',\n",
              "                                                   'Transmission'])])),\n",
              "                ('Scaler', StandardScaler()),\n",
              "                ('Regresion Lineal', LinearRegression())])"
            ]
          },
          "metadata": {},
          "output_type": "display_data"
        }
      ],
      "source": [
        "RegLin = LinearRegression() #Defino una variable con la función regresión lineal para poder llamarla en la pipeline. Me hace acordar a los punteros a funciones de C\n",
        "\n",
        "pipeline =Pipeline(\n",
        "    [\n",
        "        ('Column Transformer', ct),\n",
        "        ('Scaler', sscaler),\n",
        "        ('Regresion Lineal', RegLin)\n",
        "\n",
        "    ]\n",
        ")\n",
        "#Pipeline se encarga de realizar una secuencia de funciones/pasos. En este caso, primero realiza dos transformaciones\n",
        " #(tres si consideramos a las transformaciones de 'Column Transformer' como distintas) y por último, estima con la regresión lineal.\n",
        "\n",
        "display(pipeline)"
      ]
    },
    {
      "cell_type": "markdown",
      "metadata": {
        "id": "Gc73grBk8CkZ"
      },
      "source": [
        "Los parámetros que resultan de mi modelo son 24. Esto se debe a que, en primer lugar, del desarrollo polinómico de orden 3 sin sesgo de las variables numéricas obtengo 19 ($X_1,X_1^2,X_1^3,X_1X_2,X_1X_3,X_1X_2X_3$...).\n",
        "\n",
        "Por otro lado, tengo los 5 parámetros de las variables categóricas: dos de mis variables categóricas binarias, transmisión y tipo de vendedor, y tres columnas por el tipo de combustible.\n",
        "Finalmente, la suma de ambos resulta en 24 parámetros."
      ]
    },
    {
      "cell_type": "code",
      "execution_count": 48,
      "metadata": {
        "colab": {
          "base_uri": "https://localhost:8080/",
          "height": 34
        },
        "id": "DYRAPL-e67mZ",
        "outputId": "7b73f68a-5887-40ac-e038-95b84ff4c448"
      },
      "outputs": [
        {
          "data": {
            "text/plain": [
              "24"
            ]
          },
          "metadata": {},
          "output_type": "display_data"
        }
      ],
      "source": [
        "X_train = mtrain[cat + num]\n",
        "Y_train = mtrain['Selling_Price']\n",
        "\n",
        "pipeline.fit(X_train, Y_train)\n",
        "\n",
        "parametros = pipeline.named_steps['Regresion Lineal'].coef_\n",
        "display(len(parametros))#Compruebo tener el núnero de parámetros correctos"
      ]
    },
    {
      "cell_type": "markdown",
      "metadata": {
        "id": "BVXfX5vz75CV"
      },
      "source": [
        "Ahora que el modelo ya fue entrenado, hallo el error cuadrático medio de entrenamiento y el de validación."
      ]
    },
    {
      "cell_type": "code",
      "execution_count": 49,
      "metadata": {
        "colab": {
          "base_uri": "https://localhost:8080/"
        },
        "id": "YkQFRDtW9pSt",
        "outputId": "9e17706a-f9fd-4ebe-c42a-3d7ad892e8c9"
      },
      "outputs": [
        {
          "name": "stdout",
          "output_type": "stream",
          "text": [
            "El MSE de entrenamiento es de 0.47269235593789166\n",
            "El MSE de validación es de 0.5419991552323533\n"
          ]
        }
      ],
      "source": [
        "Y_hat_t = pipeline.predict(X_train)\n",
        "mse_t = np.mean((Y_hat_t - Y_train)**2)\n",
        "\n",
        "X_valid = mvalid[cat + num]\n",
        "Y_valid = mvalid['Selling_Price']\n",
        "\n",
        "Y_hat_valid = pipeline.predict(X_valid)\n",
        "mse_valid = np.mean((Y_hat_valid - Y_valid)**2)\n",
        "\n",
        "print(f'El MSE de entrenamiento es de {mse_t}')\n",
        "print(f'El MSE de validación es de {mse_valid}')"
      ]
    },
    {
      "cell_type": "markdown",
      "metadata": {
        "id": "8Uhqp4EDEbz8"
      },
      "source": [
        "La **regresión polinómica** sin regularizar no es más que una regresión lineal aplicada sobre nuevas variables que son potencias de la original.  \n",
        "\n",
        "En vez de ajustar:\n",
        "\n",
        "$$\n",
        "y = \\beta_0 + \\beta_1 x\n",
        "$$\n",
        "\n",
        "se ajusta:\n",
        "\n",
        "$$\n",
        "y = \\beta_0 + \\beta_1 x + \\beta_2 x^2 + \\beta_3 x^3 + \\dots + \\beta_d x^d\n",
        "$$\n",
        "\n",
        "donde $d$ es el grado del polinomio.\n",
        "El problema de este modelo es que a medida que le grado del polinomio aumenta, el modelo tiene a sobreajustar (*overfitting*)\n",
        "\n",
        "\n",
        "La regresión polinómica regularizada agrega una **penalización sobre los coeficientes** $\\beta$, para controlar la complejidad del modelo.   \n",
        "Se utilizando Ridge, se minimiza la función de costo del siguiente modo:\n",
        "\n",
        "$$\n",
        "J(\\beta) = \\sum_{i=1}^{n} \\left( y_i - \\hat{y}_i \\right)^2 + \\lambda \\sum_{j=1}^{d} \\beta_j^2\n",
        "$$\n",
        "\n",
        "donde:\n",
        "\n",
        "- $y_i$: valor real.  \n",
        "- $\\hat{y}_i$ = $\\beta_0 + \\beta_1 x_i + \\beta_2 x_i^2 + \\cdots + \\beta_d x_i^d$: valor predicho.  \n",
        "- $\\lambda \\geq 0$: hiperparámetro que controla la penalización.\n",
        "\n",
        "- $\\beta_j$: coeficientes del modelo\n",
        "\n",
        "De este modo, el modelo sigue capturando relaciones no lineales, pero evita que los coeficientes crezcan demasiado y se reduce el sobreajuste.  \n"
      ]
    },
    {
      "cell_type": "code",
      "execution_count": 50,
      "metadata": {
        "colab": {
          "base_uri": "https://localhost:8080/",
          "height": 286
        },
        "id": "lz5se_CNEhOo",
        "outputId": "c56cb90d-7764-464d-8946-58f51e2973d0"
      },
      "outputs": [
        {
          "data": {
            "text/html": [
              "<style>#sk-container-id-5 {\n",
              "  /* Definition of color scheme common for light and dark mode */\n",
              "  --sklearn-color-text: black;\n",
              "  --sklearn-color-line: gray;\n",
              "  /* Definition of color scheme for unfitted estimators */\n",
              "  --sklearn-color-unfitted-level-0: #fff5e6;\n",
              "  --sklearn-color-unfitted-level-1: #f6e4d2;\n",
              "  --sklearn-color-unfitted-level-2: #ffe0b3;\n",
              "  --sklearn-color-unfitted-level-3: chocolate;\n",
              "  /* Definition of color scheme for fitted estimators */\n",
              "  --sklearn-color-fitted-level-0: #f0f8ff;\n",
              "  --sklearn-color-fitted-level-1: #d4ebff;\n",
              "  --sklearn-color-fitted-level-2: #b3dbfd;\n",
              "  --sklearn-color-fitted-level-3: cornflowerblue;\n",
              "\n",
              "  /* Specific color for light theme */\n",
              "  --sklearn-color-text-on-default-background: var(--sg-text-color, var(--theme-code-foreground, var(--jp-content-font-color1, black)));\n",
              "  --sklearn-color-background: var(--sg-background-color, var(--theme-background, var(--jp-layout-color0, white)));\n",
              "  --sklearn-color-border-box: var(--sg-text-color, var(--theme-code-foreground, var(--jp-content-font-color1, black)));\n",
              "  --sklearn-color-icon: #696969;\n",
              "\n",
              "  @media (prefers-color-scheme: dark) {\n",
              "    /* Redefinition of color scheme for dark theme */\n",
              "    --sklearn-color-text-on-default-background: var(--sg-text-color, var(--theme-code-foreground, var(--jp-content-font-color1, white)));\n",
              "    --sklearn-color-background: var(--sg-background-color, var(--theme-background, var(--jp-layout-color0, #111)));\n",
              "    --sklearn-color-border-box: var(--sg-text-color, var(--theme-code-foreground, var(--jp-content-font-color1, white)));\n",
              "    --sklearn-color-icon: #878787;\n",
              "  }\n",
              "}\n",
              "\n",
              "#sk-container-id-5 {\n",
              "  color: var(--sklearn-color-text);\n",
              "}\n",
              "\n",
              "#sk-container-id-5 pre {\n",
              "  padding: 0;\n",
              "}\n",
              "\n",
              "#sk-container-id-5 input.sk-hidden--visually {\n",
              "  border: 0;\n",
              "  clip: rect(1px 1px 1px 1px);\n",
              "  clip: rect(1px, 1px, 1px, 1px);\n",
              "  height: 1px;\n",
              "  margin: -1px;\n",
              "  overflow: hidden;\n",
              "  padding: 0;\n",
              "  position: absolute;\n",
              "  width: 1px;\n",
              "}\n",
              "\n",
              "#sk-container-id-5 div.sk-dashed-wrapped {\n",
              "  border: 1px dashed var(--sklearn-color-line);\n",
              "  margin: 0 0.4em 0.5em 0.4em;\n",
              "  box-sizing: border-box;\n",
              "  padding-bottom: 0.4em;\n",
              "  background-color: var(--sklearn-color-background);\n",
              "}\n",
              "\n",
              "#sk-container-id-5 div.sk-container {\n",
              "  /* jupyter's `normalize.less` sets `[hidden] { display: none; }`\n",
              "     but bootstrap.min.css set `[hidden] { display: none !important; }`\n",
              "     so we also need the `!important` here to be able to override the\n",
              "     default hidden behavior on the sphinx rendered scikit-learn.org.\n",
              "     See: https://github.com/scikit-learn/scikit-learn/issues/21755 */\n",
              "  display: inline-block !important;\n",
              "  position: relative;\n",
              "}\n",
              "\n",
              "#sk-container-id-5 div.sk-text-repr-fallback {\n",
              "  display: none;\n",
              "}\n",
              "\n",
              "div.sk-parallel-item,\n",
              "div.sk-serial,\n",
              "div.sk-item {\n",
              "  /* draw centered vertical line to link estimators */\n",
              "  background-image: linear-gradient(var(--sklearn-color-text-on-default-background), var(--sklearn-color-text-on-default-background));\n",
              "  background-size: 2px 100%;\n",
              "  background-repeat: no-repeat;\n",
              "  background-position: center center;\n",
              "}\n",
              "\n",
              "/* Parallel-specific style estimator block */\n",
              "\n",
              "#sk-container-id-5 div.sk-parallel-item::after {\n",
              "  content: \"\";\n",
              "  width: 100%;\n",
              "  border-bottom: 2px solid var(--sklearn-color-text-on-default-background);\n",
              "  flex-grow: 1;\n",
              "}\n",
              "\n",
              "#sk-container-id-5 div.sk-parallel {\n",
              "  display: flex;\n",
              "  align-items: stretch;\n",
              "  justify-content: center;\n",
              "  background-color: var(--sklearn-color-background);\n",
              "  position: relative;\n",
              "}\n",
              "\n",
              "#sk-container-id-5 div.sk-parallel-item {\n",
              "  display: flex;\n",
              "  flex-direction: column;\n",
              "}\n",
              "\n",
              "#sk-container-id-5 div.sk-parallel-item:first-child::after {\n",
              "  align-self: flex-end;\n",
              "  width: 50%;\n",
              "}\n",
              "\n",
              "#sk-container-id-5 div.sk-parallel-item:last-child::after {\n",
              "  align-self: flex-start;\n",
              "  width: 50%;\n",
              "}\n",
              "\n",
              "#sk-container-id-5 div.sk-parallel-item:only-child::after {\n",
              "  width: 0;\n",
              "}\n",
              "\n",
              "/* Serial-specific style estimator block */\n",
              "\n",
              "#sk-container-id-5 div.sk-serial {\n",
              "  display: flex;\n",
              "  flex-direction: column;\n",
              "  align-items: center;\n",
              "  background-color: var(--sklearn-color-background);\n",
              "  padding-right: 1em;\n",
              "  padding-left: 1em;\n",
              "}\n",
              "\n",
              "\n",
              "/* Toggleable style: style used for estimator/Pipeline/ColumnTransformer box that is\n",
              "clickable and can be expanded/collapsed.\n",
              "- Pipeline and ColumnTransformer use this feature and define the default style\n",
              "- Estimators will overwrite some part of the style using the `sk-estimator` class\n",
              "*/\n",
              "\n",
              "/* Pipeline and ColumnTransformer style (default) */\n",
              "\n",
              "#sk-container-id-5 div.sk-toggleable {\n",
              "  /* Default theme specific background. It is overwritten whether we have a\n",
              "  specific estimator or a Pipeline/ColumnTransformer */\n",
              "  background-color: var(--sklearn-color-background);\n",
              "}\n",
              "\n",
              "/* Toggleable label */\n",
              "#sk-container-id-5 label.sk-toggleable__label {\n",
              "  cursor: pointer;\n",
              "  display: block;\n",
              "  width: 100%;\n",
              "  margin-bottom: 0;\n",
              "  padding: 0.5em;\n",
              "  box-sizing: border-box;\n",
              "  text-align: center;\n",
              "}\n",
              "\n",
              "#sk-container-id-5 label.sk-toggleable__label-arrow:before {\n",
              "  /* Arrow on the left of the label */\n",
              "  content: \"▸\";\n",
              "  float: left;\n",
              "  margin-right: 0.25em;\n",
              "  color: var(--sklearn-color-icon);\n",
              "}\n",
              "\n",
              "#sk-container-id-5 label.sk-toggleable__label-arrow:hover:before {\n",
              "  color: var(--sklearn-color-text);\n",
              "}\n",
              "\n",
              "/* Toggleable content - dropdown */\n",
              "\n",
              "#sk-container-id-5 div.sk-toggleable__content {\n",
              "  max-height: 0;\n",
              "  max-width: 0;\n",
              "  overflow: hidden;\n",
              "  text-align: left;\n",
              "  /* unfitted */\n",
              "  background-color: var(--sklearn-color-unfitted-level-0);\n",
              "}\n",
              "\n",
              "#sk-container-id-5 div.sk-toggleable__content.fitted {\n",
              "  /* fitted */\n",
              "  background-color: var(--sklearn-color-fitted-level-0);\n",
              "}\n",
              "\n",
              "#sk-container-id-5 div.sk-toggleable__content pre {\n",
              "  margin: 0.2em;\n",
              "  border-radius: 0.25em;\n",
              "  color: var(--sklearn-color-text);\n",
              "  /* unfitted */\n",
              "  background-color: var(--sklearn-color-unfitted-level-0);\n",
              "}\n",
              "\n",
              "#sk-container-id-5 div.sk-toggleable__content.fitted pre {\n",
              "  /* unfitted */\n",
              "  background-color: var(--sklearn-color-fitted-level-0);\n",
              "}\n",
              "\n",
              "#sk-container-id-5 input.sk-toggleable__control:checked~div.sk-toggleable__content {\n",
              "  /* Expand drop-down */\n",
              "  max-height: 200px;\n",
              "  max-width: 100%;\n",
              "  overflow: auto;\n",
              "}\n",
              "\n",
              "#sk-container-id-5 input.sk-toggleable__control:checked~label.sk-toggleable__label-arrow:before {\n",
              "  content: \"▾\";\n",
              "}\n",
              "\n",
              "/* Pipeline/ColumnTransformer-specific style */\n",
              "\n",
              "#sk-container-id-5 div.sk-label input.sk-toggleable__control:checked~label.sk-toggleable__label {\n",
              "  color: var(--sklearn-color-text);\n",
              "  background-color: var(--sklearn-color-unfitted-level-2);\n",
              "}\n",
              "\n",
              "#sk-container-id-5 div.sk-label.fitted input.sk-toggleable__control:checked~label.sk-toggleable__label {\n",
              "  background-color: var(--sklearn-color-fitted-level-2);\n",
              "}\n",
              "\n",
              "/* Estimator-specific style */\n",
              "\n",
              "/* Colorize estimator box */\n",
              "#sk-container-id-5 div.sk-estimator input.sk-toggleable__control:checked~label.sk-toggleable__label {\n",
              "  /* unfitted */\n",
              "  background-color: var(--sklearn-color-unfitted-level-2);\n",
              "}\n",
              "\n",
              "#sk-container-id-5 div.sk-estimator.fitted input.sk-toggleable__control:checked~label.sk-toggleable__label {\n",
              "  /* fitted */\n",
              "  background-color: var(--sklearn-color-fitted-level-2);\n",
              "}\n",
              "\n",
              "#sk-container-id-5 div.sk-label label.sk-toggleable__label,\n",
              "#sk-container-id-5 div.sk-label label {\n",
              "  /* The background is the default theme color */\n",
              "  color: var(--sklearn-color-text-on-default-background);\n",
              "}\n",
              "\n",
              "/* On hover, darken the color of the background */\n",
              "#sk-container-id-5 div.sk-label:hover label.sk-toggleable__label {\n",
              "  color: var(--sklearn-color-text);\n",
              "  background-color: var(--sklearn-color-unfitted-level-2);\n",
              "}\n",
              "\n",
              "/* Label box, darken color on hover, fitted */\n",
              "#sk-container-id-5 div.sk-label.fitted:hover label.sk-toggleable__label.fitted {\n",
              "  color: var(--sklearn-color-text);\n",
              "  background-color: var(--sklearn-color-fitted-level-2);\n",
              "}\n",
              "\n",
              "/* Estimator label */\n",
              "\n",
              "#sk-container-id-5 div.sk-label label {\n",
              "  font-family: monospace;\n",
              "  font-weight: bold;\n",
              "  display: inline-block;\n",
              "  line-height: 1.2em;\n",
              "}\n",
              "\n",
              "#sk-container-id-5 div.sk-label-container {\n",
              "  text-align: center;\n",
              "}\n",
              "\n",
              "/* Estimator-specific */\n",
              "#sk-container-id-5 div.sk-estimator {\n",
              "  font-family: monospace;\n",
              "  border: 1px dotted var(--sklearn-color-border-box);\n",
              "  border-radius: 0.25em;\n",
              "  box-sizing: border-box;\n",
              "  margin-bottom: 0.5em;\n",
              "  /* unfitted */\n",
              "  background-color: var(--sklearn-color-unfitted-level-0);\n",
              "}\n",
              "\n",
              "#sk-container-id-5 div.sk-estimator.fitted {\n",
              "  /* fitted */\n",
              "  background-color: var(--sklearn-color-fitted-level-0);\n",
              "}\n",
              "\n",
              "/* on hover */\n",
              "#sk-container-id-5 div.sk-estimator:hover {\n",
              "  /* unfitted */\n",
              "  background-color: var(--sklearn-color-unfitted-level-2);\n",
              "}\n",
              "\n",
              "#sk-container-id-5 div.sk-estimator.fitted:hover {\n",
              "  /* fitted */\n",
              "  background-color: var(--sklearn-color-fitted-level-2);\n",
              "}\n",
              "\n",
              "/* Specification for estimator info (e.g. \"i\" and \"?\") */\n",
              "\n",
              "/* Common style for \"i\" and \"?\" */\n",
              "\n",
              ".sk-estimator-doc-link,\n",
              "a:link.sk-estimator-doc-link,\n",
              "a:visited.sk-estimator-doc-link {\n",
              "  float: right;\n",
              "  font-size: smaller;\n",
              "  line-height: 1em;\n",
              "  font-family: monospace;\n",
              "  background-color: var(--sklearn-color-background);\n",
              "  border-radius: 1em;\n",
              "  height: 1em;\n",
              "  width: 1em;\n",
              "  text-decoration: none !important;\n",
              "  margin-left: 1ex;\n",
              "  /* unfitted */\n",
              "  border: var(--sklearn-color-unfitted-level-1) 1pt solid;\n",
              "  color: var(--sklearn-color-unfitted-level-1);\n",
              "}\n",
              "\n",
              ".sk-estimator-doc-link.fitted,\n",
              "a:link.sk-estimator-doc-link.fitted,\n",
              "a:visited.sk-estimator-doc-link.fitted {\n",
              "  /* fitted */\n",
              "  border: var(--sklearn-color-fitted-level-1) 1pt solid;\n",
              "  color: var(--sklearn-color-fitted-level-1);\n",
              "}\n",
              "\n",
              "/* On hover */\n",
              "div.sk-estimator:hover .sk-estimator-doc-link:hover,\n",
              ".sk-estimator-doc-link:hover,\n",
              "div.sk-label-container:hover .sk-estimator-doc-link:hover,\n",
              ".sk-estimator-doc-link:hover {\n",
              "  /* unfitted */\n",
              "  background-color: var(--sklearn-color-unfitted-level-3);\n",
              "  color: var(--sklearn-color-background);\n",
              "  text-decoration: none;\n",
              "}\n",
              "\n",
              "div.sk-estimator.fitted:hover .sk-estimator-doc-link.fitted:hover,\n",
              ".sk-estimator-doc-link.fitted:hover,\n",
              "div.sk-label-container:hover .sk-estimator-doc-link.fitted:hover,\n",
              ".sk-estimator-doc-link.fitted:hover {\n",
              "  /* fitted */\n",
              "  background-color: var(--sklearn-color-fitted-level-3);\n",
              "  color: var(--sklearn-color-background);\n",
              "  text-decoration: none;\n",
              "}\n",
              "\n",
              "/* Span, style for the box shown on hovering the info icon */\n",
              ".sk-estimator-doc-link span {\n",
              "  display: none;\n",
              "  z-index: 9999;\n",
              "  position: relative;\n",
              "  font-weight: normal;\n",
              "  right: .2ex;\n",
              "  padding: .5ex;\n",
              "  margin: .5ex;\n",
              "  width: min-content;\n",
              "  min-width: 20ex;\n",
              "  max-width: 50ex;\n",
              "  color: var(--sklearn-color-text);\n",
              "  box-shadow: 2pt 2pt 4pt #999;\n",
              "  /* unfitted */\n",
              "  background: var(--sklearn-color-unfitted-level-0);\n",
              "  border: .5pt solid var(--sklearn-color-unfitted-level-3);\n",
              "}\n",
              "\n",
              ".sk-estimator-doc-link.fitted span {\n",
              "  /* fitted */\n",
              "  background: var(--sklearn-color-fitted-level-0);\n",
              "  border: var(--sklearn-color-fitted-level-3);\n",
              "}\n",
              "\n",
              ".sk-estimator-doc-link:hover span {\n",
              "  display: block;\n",
              "}\n",
              "\n",
              "/* \"?\"-specific style due to the `<a>` HTML tag */\n",
              "\n",
              "#sk-container-id-5 a.estimator_doc_link {\n",
              "  float: right;\n",
              "  font-size: 1rem;\n",
              "  line-height: 1em;\n",
              "  font-family: monospace;\n",
              "  background-color: var(--sklearn-color-background);\n",
              "  border-radius: 1rem;\n",
              "  height: 1rem;\n",
              "  width: 1rem;\n",
              "  text-decoration: none;\n",
              "  /* unfitted */\n",
              "  color: var(--sklearn-color-unfitted-level-1);\n",
              "  border: var(--sklearn-color-unfitted-level-1) 1pt solid;\n",
              "}\n",
              "\n",
              "#sk-container-id-5 a.estimator_doc_link.fitted {\n",
              "  /* fitted */\n",
              "  border: var(--sklearn-color-fitted-level-1) 1pt solid;\n",
              "  color: var(--sklearn-color-fitted-level-1);\n",
              "}\n",
              "\n",
              "/* On hover */\n",
              "#sk-container-id-5 a.estimator_doc_link:hover {\n",
              "  /* unfitted */\n",
              "  background-color: var(--sklearn-color-unfitted-level-3);\n",
              "  color: var(--sklearn-color-background);\n",
              "  text-decoration: none;\n",
              "}\n",
              "\n",
              "#sk-container-id-5 a.estimator_doc_link.fitted:hover {\n",
              "  /* fitted */\n",
              "  background-color: var(--sklearn-color-fitted-level-3);\n",
              "}\n",
              "</style><div id=\"sk-container-id-5\" class=\"sk-top-container\"><div class=\"sk-text-repr-fallback\"><pre>Pipeline(steps=[(&#x27;Column Transformer&#x27;,\n",
              "                 ColumnTransformer(transformers=[(&#x27;PolynomialMap&#x27;,\n",
              "                                                  PolynomialFeatures(degree=3,\n",
              "                                                                     include_bias=False),\n",
              "                                                  [&#x27;Year&#x27;, &#x27;Present_Price&#x27;,\n",
              "                                                   &#x27;Kms_Driven&#x27;]),\n",
              "                                                 (&#x27;OneHotEncoded&#x27;,\n",
              "                                                  OneHotEncoder(drop=&#x27;if_binary&#x27;,\n",
              "                                                                sparse_output=False),\n",
              "                                                  [&#x27;Fuel_Type&#x27;, &#x27;Seller_Type&#x27;,\n",
              "                                                   &#x27;Transmission&#x27;])])),\n",
              "                (&#x27;Scaler&#x27;, StandardScaler()), (&#x27;Regularización&#x27;, Ridge())])</pre><b>In a Jupyter environment, please rerun this cell to show the HTML representation or trust the notebook. <br />On GitHub, the HTML representation is unable to render, please try loading this page with nbviewer.org.</b></div><div class=\"sk-container\" hidden><div class=\"sk-item sk-dashed-wrapped\"><div class=\"sk-label-container\"><div class=\"sk-label  sk-toggleable\"><input class=\"sk-toggleable__control sk-hidden--visually\" id=\"sk-estimator-id-33\" type=\"checkbox\" ><label for=\"sk-estimator-id-33\" class=\"sk-toggleable__label  sk-toggleable__label-arrow \">&nbsp;&nbsp;Pipeline<a class=\"sk-estimator-doc-link \" rel=\"noreferrer\" target=\"_blank\" href=\"https://scikit-learn.org/1.5/modules/generated/sklearn.pipeline.Pipeline.html\">?<span>Documentation for Pipeline</span></a><span class=\"sk-estimator-doc-link \">i<span>Not fitted</span></span></label><div class=\"sk-toggleable__content \"><pre>Pipeline(steps=[(&#x27;Column Transformer&#x27;,\n",
              "                 ColumnTransformer(transformers=[(&#x27;PolynomialMap&#x27;,\n",
              "                                                  PolynomialFeatures(degree=3,\n",
              "                                                                     include_bias=False),\n",
              "                                                  [&#x27;Year&#x27;, &#x27;Present_Price&#x27;,\n",
              "                                                   &#x27;Kms_Driven&#x27;]),\n",
              "                                                 (&#x27;OneHotEncoded&#x27;,\n",
              "                                                  OneHotEncoder(drop=&#x27;if_binary&#x27;,\n",
              "                                                                sparse_output=False),\n",
              "                                                  [&#x27;Fuel_Type&#x27;, &#x27;Seller_Type&#x27;,\n",
              "                                                   &#x27;Transmission&#x27;])])),\n",
              "                (&#x27;Scaler&#x27;, StandardScaler()), (&#x27;Regularización&#x27;, Ridge())])</pre></div> </div></div><div class=\"sk-serial\"><div class=\"sk-item sk-dashed-wrapped\"><div class=\"sk-label-container\"><div class=\"sk-label  sk-toggleable\"><input class=\"sk-toggleable__control sk-hidden--visually\" id=\"sk-estimator-id-34\" type=\"checkbox\" ><label for=\"sk-estimator-id-34\" class=\"sk-toggleable__label  sk-toggleable__label-arrow \">&nbsp;Column Transformer: ColumnTransformer<a class=\"sk-estimator-doc-link \" rel=\"noreferrer\" target=\"_blank\" href=\"https://scikit-learn.org/1.5/modules/generated/sklearn.compose.ColumnTransformer.html\">?<span>Documentation for Column Transformer: ColumnTransformer</span></a></label><div class=\"sk-toggleable__content \"><pre>ColumnTransformer(transformers=[(&#x27;PolynomialMap&#x27;,\n",
              "                                 PolynomialFeatures(degree=3,\n",
              "                                                    include_bias=False),\n",
              "                                 [&#x27;Year&#x27;, &#x27;Present_Price&#x27;, &#x27;Kms_Driven&#x27;]),\n",
              "                                (&#x27;OneHotEncoded&#x27;,\n",
              "                                 OneHotEncoder(drop=&#x27;if_binary&#x27;,\n",
              "                                               sparse_output=False),\n",
              "                                 [&#x27;Fuel_Type&#x27;, &#x27;Seller_Type&#x27;, &#x27;Transmission&#x27;])])</pre></div> </div></div><div class=\"sk-parallel\"><div class=\"sk-parallel-item\"><div class=\"sk-item\"><div class=\"sk-label-container\"><div class=\"sk-label  sk-toggleable\"><input class=\"sk-toggleable__control sk-hidden--visually\" id=\"sk-estimator-id-35\" type=\"checkbox\" ><label for=\"sk-estimator-id-35\" class=\"sk-toggleable__label  sk-toggleable__label-arrow \">PolynomialMap</label><div class=\"sk-toggleable__content \"><pre>[&#x27;Year&#x27;, &#x27;Present_Price&#x27;, &#x27;Kms_Driven&#x27;]</pre></div> </div></div><div class=\"sk-serial\"><div class=\"sk-item\"><div class=\"sk-estimator  sk-toggleable\"><input class=\"sk-toggleable__control sk-hidden--visually\" id=\"sk-estimator-id-36\" type=\"checkbox\" ><label for=\"sk-estimator-id-36\" class=\"sk-toggleable__label  sk-toggleable__label-arrow \">&nbsp;PolynomialFeatures<a class=\"sk-estimator-doc-link \" rel=\"noreferrer\" target=\"_blank\" href=\"https://scikit-learn.org/1.5/modules/generated/sklearn.preprocessing.PolynomialFeatures.html\">?<span>Documentation for PolynomialFeatures</span></a></label><div class=\"sk-toggleable__content \"><pre>PolynomialFeatures(degree=3, include_bias=False)</pre></div> </div></div></div></div></div><div class=\"sk-parallel-item\"><div class=\"sk-item\"><div class=\"sk-label-container\"><div class=\"sk-label  sk-toggleable\"><input class=\"sk-toggleable__control sk-hidden--visually\" id=\"sk-estimator-id-37\" type=\"checkbox\" ><label for=\"sk-estimator-id-37\" class=\"sk-toggleable__label  sk-toggleable__label-arrow \">OneHotEncoded</label><div class=\"sk-toggleable__content \"><pre>[&#x27;Fuel_Type&#x27;, &#x27;Seller_Type&#x27;, &#x27;Transmission&#x27;]</pre></div> </div></div><div class=\"sk-serial\"><div class=\"sk-item\"><div class=\"sk-estimator  sk-toggleable\"><input class=\"sk-toggleable__control sk-hidden--visually\" id=\"sk-estimator-id-38\" type=\"checkbox\" ><label for=\"sk-estimator-id-38\" class=\"sk-toggleable__label  sk-toggleable__label-arrow \">&nbsp;OneHotEncoder<a class=\"sk-estimator-doc-link \" rel=\"noreferrer\" target=\"_blank\" href=\"https://scikit-learn.org/1.5/modules/generated/sklearn.preprocessing.OneHotEncoder.html\">?<span>Documentation for OneHotEncoder</span></a></label><div class=\"sk-toggleable__content \"><pre>OneHotEncoder(drop=&#x27;if_binary&#x27;, sparse_output=False)</pre></div> </div></div></div></div></div></div></div><div class=\"sk-item\"><div class=\"sk-estimator  sk-toggleable\"><input class=\"sk-toggleable__control sk-hidden--visually\" id=\"sk-estimator-id-39\" type=\"checkbox\" ><label for=\"sk-estimator-id-39\" class=\"sk-toggleable__label  sk-toggleable__label-arrow \">&nbsp;StandardScaler<a class=\"sk-estimator-doc-link \" rel=\"noreferrer\" target=\"_blank\" href=\"https://scikit-learn.org/1.5/modules/generated/sklearn.preprocessing.StandardScaler.html\">?<span>Documentation for StandardScaler</span></a></label><div class=\"sk-toggleable__content \"><pre>StandardScaler()</pre></div> </div></div><div class=\"sk-item\"><div class=\"sk-estimator  sk-toggleable\"><input class=\"sk-toggleable__control sk-hidden--visually\" id=\"sk-estimator-id-40\" type=\"checkbox\" ><label for=\"sk-estimator-id-40\" class=\"sk-toggleable__label  sk-toggleable__label-arrow \">&nbsp;Ridge<a class=\"sk-estimator-doc-link \" rel=\"noreferrer\" target=\"_blank\" href=\"https://scikit-learn.org/1.5/modules/generated/sklearn.linear_model.Ridge.html\">?<span>Documentation for Ridge</span></a></label><div class=\"sk-toggleable__content \"><pre>Ridge()</pre></div> </div></div></div></div></div></div>"
            ],
            "text/plain": [
              "Pipeline(steps=[('Column Transformer',\n",
              "                 ColumnTransformer(transformers=[('PolynomialMap',\n",
              "                                                  PolynomialFeatures(degree=3,\n",
              "                                                                     include_bias=False),\n",
              "                                                  ['Year', 'Present_Price',\n",
              "                                                   'Kms_Driven']),\n",
              "                                                 ('OneHotEncoded',\n",
              "                                                  OneHotEncoder(drop='if_binary',\n",
              "                                                                sparse_output=False),\n",
              "                                                  ['Fuel_Type', 'Seller_Type',\n",
              "                                                   'Transmission'])])),\n",
              "                ('Scaler', StandardScaler()), ('Regularización', Ridge())])"
            ]
          },
          "metadata": {},
          "output_type": "display_data"
        }
      ],
      "source": [
        "regu = Ridge() #Lo creo sin un lambda, después se lo paso como parámetro\n",
        "\n",
        "pipeline_regu =Pipeline(\n",
        "    [\n",
        "        ('Column Transformer', ct),\n",
        "        ('Scaler', sscaler),\n",
        "        ('Regularización', regu)\n",
        "\n",
        "    ]\n",
        ")\n",
        "\n",
        "display(pipeline_regu)"
      ]
    },
    {
      "cell_type": "markdown",
      "metadata": {
        "id": "2SizlVxxFbyd"
      },
      "source": [
        "Se definen los lambdas para regularizar. En este caso, debido a los valores de los mismos defino un vector logarítmico."
      ]
    },
    {
      "cell_type": "code",
      "execution_count": 51,
      "metadata": {
        "colab": {
          "base_uri": "https://localhost:8080/",
          "height": 492
        },
        "id": "HW1dNQaGFbed",
        "outputId": "ee81dbb3-c072-49d3-bbcd-e2e5559e4377"
      },
      "outputs": [
        {
          "data": {
            "image/png": "[encoded data removed]",
            "text/plain": [
              "<Figure size 800x500 with 1 Axes>"
            ]
          },
          "metadata": {},
          "output_type": "display_data"
        }
      ],
      "source": [
        "# lambdas entre 1e-6 y 1e-2\n",
        "lambdas = np.logspace(-6, -2, 150)\n",
        "\n",
        "mse_train = []\n",
        "mse_valid = []\n",
        "for lam in lambdas:\n",
        "    pipeline_regu.set_params(Regularización__alpha = lam)\n",
        "    pipeline_regu =Pipeline(\n",
        "    [\n",
        "        ('Column Transformer', ct),\n",
        "        ('Scaler', sscaler),\n",
        "        ('Regularización', regu)\n",
        "\n",
        "    ]\n",
        "    )\n",
        "    # Entrenar\n",
        "    pipeline_regu.fit(X_train, Y_train)\n",
        "\n",
        "    # Predicciones\n",
        "    y_pred_train = pipeline_regu.predict(X_train)\n",
        "    y_pred_valid = pipeline_regu.predict(X_valid)\n",
        "\n",
        "    # Guardar MSE\n",
        "    mse_train.append(mean_squared_error(Y_train, y_pred_train))\n",
        "    mse_valid.append(mean_squared_error(Y_valid, y_pred_valid))\n",
        "\n",
        "\n",
        "\n",
        "\n",
        "#Gráfico\n",
        "plt.figure(figsize=(8,5))\n",
        "plt.plot(lambdas, mse_train, label=\"Train MSE\")\n",
        "plt.plot(lambdas, mse_valid, label=\"Validation MSE\")\n",
        "plt.xscale(\"log\")  # eje x en log para ver mejor los lambda\n",
        "plt.xlabel(\"Lambda (alpha)\")\n",
        "plt.ylabel(\"Mean Squared Error\")\n",
        "plt.title(\"Ridge: MSE vs Lambda\")\n",
        "plt.legend()\n",
        "plt.grid(True)\n",
        "plt.show()"
      ]
    },
    {
      "cell_type": "code",
      "execution_count": 52,
      "metadata": {
        "colab": {
          "base_uri": "https://localhost:8080/"
        },
        "id": "IBE5STDQLg9E",
        "outputId": "91871016-6bbf-4044-ccad-e5941c401929"
      },
      "outputs": [
        {
          "name": "stdout",
          "output_type": "stream",
          "text": [
            "El lambda que minimiza el MSE de validación es 0.00023036479376536948\n"
          ]
        }
      ],
      "source": [
        "best_lamda_index = np.argmin(mse_valid) #encuentra el índice que minimiza el ECM\n",
        "best_lambda = lambdas[best_lamda_index]\n",
        "print(f'El lambda que minimiza el MSE de validación es {best_lambda}')"
      ]
    },
    {
      "cell_type": "code",
      "execution_count": 53,
      "metadata": {
        "colab": {
          "base_uri": "https://localhost:8080/"
        },
        "id": "cTZi17jPPIAG",
        "outputId": "576a60ae-6de4-4f7e-b22c-4da94138b2e3"
      },
      "outputs": [
        {
          "name": "stdout",
          "output_type": "stream",
          "text": [
            "El MSE de testeo es 0.34117206340659006\n"
          ]
        }
      ],
      "source": [
        "pipeline_regu.set_params(Regularización__alpha = best_lambda)\n",
        "pipeline_regu.fit(X_train, Y_train)\n",
        "\n",
        "X_test = mtest[cat + num]\n",
        "Y_test = mtest['Selling_Price']\n",
        "\n",
        "Y_hat_test = pipeline_regu.predict(X_test)\n",
        "mse_test = mean_squared_error(Y_test, Y_hat_test)\n",
        "\n",
        "print(f'El MSE de testeo es {mse_test}')"
      ]
    }
  ],
  "metadata": {
    "colab": {
      "provenance": []
    },
    "kernelspec": {
      "display_name": "Python 3",
      "name": "python3"
    },
    "language_info": {
      "codemirror_mode": {
        "name": "ipython",
        "version": 3
      },
      "file_extension": ".py",
      "mimetype": "text/x-python",
      "name": "python",
      "nbconvert_exporter": "python",
      "pygments_lexer": "ipython3",
      "version": "3.11.9"
    }
  },
  "nbformat": 4,
  "nbformat_minor": 0
}
