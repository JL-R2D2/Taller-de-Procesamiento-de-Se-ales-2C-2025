{
  "nbformat": 4,
  "nbformat_minor": 0,
  "metadata": {
    "colab": {
      "provenance": []
    },
    "kernelspec": {
      "name": "python3",
      "display_name": "Python 3"
    },
    "language_info": {
      "name": "python"
    }
  },
  "cells": [
    {
      "cell_type": "code",
      "execution_count": 13,
      "metadata": {
        "id": "bLx87M-vPaGf"
      },
      "outputs": [],
      "source": [
        "import numpy as np\n",
        "import matplotlib.pyplot as plt\n",
        "import tensorflow as tf\n",
        "from tensorflow.keras.datasets import mnist"
      ]
    },
    {
      "cell_type": "markdown",
      "source": [
        "#a) Exploración de Datos"
      ],
      "metadata": {
        "id": "DywaJsQ003_V"
      }
    },
    {
      "cell_type": "code",
      "source": [
        "# Cargar dataset\n",
        "(x_train, y_train), (x_test, y_test) = mnist.load_data()\n",
        "\n",
        "# Ver forma de los datos\n",
        "print(\"x_train shape:\", x_train.shape)\n",
        "print(\"y_train shape:\", y_train.shape)\n",
        "print(\"x_test shape:\", x_test.shape)\n",
        "print(\"y_test shape:\", y_test.shape)\n"
      ],
      "metadata": {
        "colab": {
          "base_uri": "https://localhost:8080/"
        },
        "id": "e6NUBiN2Sb0a",
        "outputId": "1db2c844-e7e9-46c6-eb60-b98c54bfc811"
      },
      "execution_count": 14,
      "outputs": [
        {
          "output_type": "stream",
          "name": "stdout",
          "text": [
            "x_train shape: (60000, 28, 28)\n",
            "y_train shape: (60000,)\n",
            "x_test shape: (10000, 28, 28)\n",
            "y_test shape: (10000,)\n"
          ]
        }
      ]
    },
    {
      "cell_type": "code",
      "source": [
        "# Elegir 10 índices aleatorios del set de entrenamiento\n",
        "indices = np.random.choice(len(x_train), 10, replace=False)\n",
        "\n",
        "# Crear figura\n",
        "plt.figure(figsize=(15, 3))\n",
        "\n",
        "for i, idx in enumerate(indices):\n",
        "    plt.subplot(1, 10, i+1)   # 1 fila, 10 columnas\n",
        "    plt.imshow(x_train[idx], cmap=\"gray\")\n",
        "    plt.title(str(y_train[idx]))\n",
        "    plt.axis(\"off\")\n",
        "\n",
        "plt.show()"
      ],
      "metadata": {
        "colab": {
          "base_uri": "https://localhost:8080/",
          "height": 157
        },
        "id": "A2Bo89XWS8Ed",
        "outputId": "795ed732-4d1c-441e-f9d4-fc3919bdbb05"
      },
      "execution_count": 15,
      "outputs": [
        {
          "output_type": "display_data",
          "data": {
            "text/plain": [
              "<Figure size 1500x300 with 10 Axes>"
            ],
            "image/png": "[encoded data removed]"
          },
          "metadata": {}
        }
      ]
    },
    {
      "cell_type": "code",
      "source": [
        "#Las etiquetas que más me convienen acá son binarias, 0 si es par, 1 si es impar\n",
        "\n",
        "# Etiquetas binarias: 0 si el número es par, 1 si es impar\n",
        "y_train_bin = y_train % 2\n",
        "y_test_bin  = y_test % 2\n",
        "\n",
        "print(\"Primeras 10 etiquetas originales:\", y_train[:10])\n",
        "print(\"Primeras 10 etiquetas binarias  :\", y_train_bin[:10])\n"
      ],
      "metadata": {
        "colab": {
          "base_uri": "https://localhost:8080/"
        },
        "id": "ys1cnLoxWQlv",
        "outputId": "8d810842-65db-4e27-f73b-2c204d306e10"
      },
      "execution_count": 16,
      "outputs": [
        {
          "output_type": "stream",
          "name": "stdout",
          "text": [
            "Primeras 10 etiquetas originales: [5 0 4 1 9 2 1 3 1 4]\n",
            "Primeras 10 etiquetas binarias  : [1 0 0 1 1 0 1 1 1 0]\n"
          ]
        }
      ]
    },
    {
      "cell_type": "markdown",
      "source": [
        "#b) Pre-Procesamiento"
      ],
      "metadata": {
        "id": "WBOiecsr1NC1"
      }
    },
    {
      "cell_type": "markdown",
      "source": [
        "Se crea una clase que permita normalizar las muestras al igual que descartar los features con varianza nula"
      ],
      "metadata": {
        "id": "FBQF8Sj01Wi-"
      }
    },
    {
      "cell_type": "code",
      "source": [
        "class Normalizer:\n",
        "    def __init__(self):\n",
        "        self.mean_ = None\n",
        "        self.std_ = None\n",
        "        self.valid_features_ = None\n",
        "\n",
        "    # Etapa de entrenamiento: calcular media y std de cada feature\n",
        "    def fit(self, X):\n",
        "        # Media y std de cada columna\n",
        "        self.mean_ = np.mean(X, axis=0)\n",
        "        self.std_ = np.std(X, axis=0)\n",
        "\n",
        "        # Guardar solo las features que tienen varianza distinta de 0, de este modo descarto los pixeles innecesarios de las imágenes\n",
        "        self.valid_features_ = self.std_ > 0\n",
        "\n",
        "        # Filtrar los valores\n",
        "        self.mean_ = self.mean_[self.valid_features_]\n",
        "        self.std_ = self.std_[self.valid_features_]\n",
        "        return self\n",
        "\n",
        "    # Aplicar la transformación\n",
        "    def transform(self, X):\n",
        "        # Filtrar solo las columnas válidas\n",
        "        X_valid = X[:, self.valid_features_]\n",
        "\n",
        "        # Estandarización\n",
        "        X_scaled = (X_valid - self.mean_) / self.std_\n",
        "        return X_scaled\n",
        "\n",
        "    # Entrenar y aplicar\n",
        "    def fit_transform(self, X):\n",
        "        self.fit(X)\n",
        "        return self.transform(X)\n"
      ],
      "metadata": {
        "id": "W8Xu-NHqW2Vj"
      },
      "execution_count": 17,
      "outputs": []
    },
    {
      "cell_type": "markdown",
      "source": [
        "Se aplica la normalización y descarte a las muestras"
      ],
      "metadata": {
        "id": "yJxpcZnC1e-w"
      }
    },
    {
      "cell_type": "code",
      "source": [
        "#Aplano las imágenes (de 28x28 a 784 columnas)\n",
        "X_train = x_train.reshape(x_train.shape[0], -1)  # (60000, 784)\n",
        "X_test  = x_test.reshape(x_test.shape[0], -1)    # (10000, 784)\n",
        "\n",
        "print(\"Shape antes de normalizar:\", X_train.shape, X_test.shape)\n",
        "\n",
        "#Normalizo\n",
        "scaler = Normalizer()\n",
        "X_train_norm = scaler.fit_transform(X_train)\n",
        "X_test_norm  = scaler.transform(X_test)\n",
        "\n",
        "print(\"Shape después de normalizar:\", X_train_norm.shape, X_test_norm.shape)\n",
        "print(\"Media (primeras 5 features):\", X_train_norm.mean(axis=0)[:5])\n",
        "print(\"Std (primeras 5 features):\", X_train_norm.std(axis=0)[:5]) #Si esta todo ok, esto debería de darme un vector de unos\n",
        "\n",
        "#La shape después de normalizar debería de darme con menos columnas, por los valores filtrados"
      ],
      "metadata": {
        "colab": {
          "base_uri": "https://localhost:8080/"
        },
        "id": "2U0H0CeQXmN4",
        "outputId": "fa8b3717-00c1-4708-87ad-3595a22b84c6"
      },
      "execution_count": 18,
      "outputs": [
        {
          "output_type": "stream",
          "name": "stdout",
          "text": [
            "Shape antes de normalizar: (60000, 784) (10000, 784)\n",
            "Shape después de normalizar: (60000, 717) (10000, 717)\n",
            "Media (primeras 5 features): [ 2.96059473e-19  1.77635684e-18 -2.33886984e-18 -2.93098879e-18\n",
            " -1.53950926e-18]\n",
            "Std (primeras 5 features): [1. 1. 1. 1. 1.]\n"
          ]
        }
      ]
    },
    {
      "cell_type": "markdown",
      "source": [
        "#C) Análisis Teórico:"
      ],
      "metadata": {
        "id": "OAGvb6K_lza5"
      }
    },
    {
      "cell_type": "markdown",
      "source": [
        "La función sigmoide σ(z) se define como:\n",
        "$$σ(z)=\\frac{1}{1+e^-z}$$\n",
        "\n",
        "Para calcular la función inversa $σ^-1(p)$, se plantea:\n",
        "$$p = \\frac{1}{1+e^-z} ⇒1+ e^-z=\\frac{1}{p}⇒z=-ln(\\frac{1}{p}-1)$$\n",
        "$$\\therefore σ^-1(p)=-ln(\\frac{1}{p}-1)$$\n",
        "\n"
      ],
      "metadata": {
        "id": "wTjSGkU5mTIY"
      }
    },
    {
      "cell_type": "markdown",
      "source": [
        "Luego, se calcula la derivada de p=σ´(z):\n",
        "$$\\frac{dp}{dz}=\\frac{e^-z}{(1+e^-z)^2}$$\n",
        "Si se reemplza z con $z=-ln(\\frac{1}{p}-1)$:\n",
        "$$\\frac{dp}{dz}=(\\frac{1}{p}-1).p^2=p-p^2$$\n",
        "$$\\therefore σ´(z)=p-p^2$$"
      ],
      "metadata": {
        "id": "kEIekO3roeYZ"
      }
    },
    {
      "cell_type": "markdown",
      "source": [
        "Como $Y$ es una variable Bernoulli, es suficiente con estimar $p(x)=P_{Y|X=x}(1)$, ya que $p(x)=P_{Y|X=x}(0)=1-p(x)$ se puede calcular por el complemento.\n",
        "\n",
        "Para garantizar que dicha estimación hecha se encuentre en el intervalo (0, 1) se modela $\\hat{p}(x)=σ(w^{T}x + b)$ con $wϵℜ^{dx}$,$bϵℜ$ y σ(z) la función sigmoide.\n",
        "\n",
        "Durante el entrenamiento se define a la función costo la definimos como $\\ell(x,y)=\\hat{P}(y|x)$, por lo tanto, la función costo tendrá la forma:\n",
        "\n",
        "\\begin{equation}\n",
        "\\ell(x,y) =\n",
        "\\begin{cases}\n",
        " -\\ln \\big( 1 - \\sigma(w^{T}x + b) \\big) & \\text{si } y = 0 \\\\[6pt]\n",
        " -\\ln \\big( \\sigma(w^{T}x + b) \\big) & \\text{si } y = 1\n",
        "\\end{cases}\n",
        "\\end{equation}\n",
        "\n",
        "\\begin{equation}\n",
        "\\ell(x,y) = -(1-y)\\ln \\big( 1 - \\sigma(w^{T}x + b) \\big) - y \\ln \\big( \\sigma(w^{T}x + b) \\big)\n",
        "\\end{equation}\n",
        "\n",
        "y sus derivadas pueden calcularse a partir de la regla de la cadena como:\n",
        "\n",
        "\\begin{equation}\n",
        "\\frac{\\partial \\ell(x,y)}{\\partial w}\n",
        "= x\\,\\sigma(w^T x + b)\\big(1-\\sigma(w^T x + b)\\big)\n",
        "\\left( \\frac{1-y}{1-\\sigma(w^T x + b)} - \\frac{y}{\\sigma(w^T x + b)} \\right)\n",
        "\\end{equation}\n",
        "\n",
        "\\begin{equation}\n",
        "= x\\Big( \\sigma(w^T x + b)(1-y) - y(1-\\sigma(w^T x + b)) \\Big)\n",
        "\\end{equation}\n",
        "\n",
        "\\begin{equation}\n",
        "= x\\big(\\sigma(w^T x + b) - y\\big)\n",
        "\\end{equation}\n",
        "\n",
        "\\begin{equation}\n",
        "\\frac{\\partial \\ell(x,y)}{\\partial b}\n",
        "= \\sigma(w^T x + b)\\big(1-\\sigma(w^T x + b)\\big)\n",
        "\\left( \\frac{1-y}{1-\\sigma(w^T x + b)} - \\frac{y}{\\sigma(w^T x + b)} \\right)\n",
        "\\end{equation}\n",
        "\n",
        "\\begin{equation}\n",
        "= \\sigma(w^T x + b) - y\n",
        "\\end{equation}\n",
        "\n"
      ],
      "metadata": {
        "id": "Xa-2ShYYskr6"
      }
    },
    {
      "cell_type": "markdown",
      "source": [
        "#d) Regresión Logística"
      ],
      "metadata": {
        "id": "naZqmKFN1miM"
      }
    },
    {
      "cell_type": "markdown",
      "source": [
        "Se crea una clase que sea una regresión logística binaria, utilizando gradiente descendiente"
      ],
      "metadata": {
        "id": "Do2UBI6s1sI7"
      }
    },
    {
      "cell_type": "code",
      "source": [
        "class RegresionLogistica:\n",
        "    def __init__(self, learning_rate, n_iterations, patience=None, min_delta=0.001, verbose=False):\n",
        "        self.learning_rate = learning_rate\n",
        "        self.n_iterations = n_iterations\n",
        "        self.weights = None\n",
        "        self.bias = None\n",
        "        self.cte = 1e-6\n",
        "        self.patience = patience\n",
        "        self.min_delta = min_delta\n",
        "        self.verbose = verbose\n",
        "        self.loss_historial = []\n",
        "\n",
        "    def _sigmoid(self, z):\n",
        "        # Estable numéricamente para ambos casos z ≷ 0\n",
        "        return np.where(z >= 0,\n",
        "                        1.0 / (1.0 + np.exp(-z)),\n",
        "                        np.exp(z) / (1.0 + np.exp(z)))\n",
        "\n",
        "    # Etapa de entrenamiento\n",
        "    def fit(self, X, y):\n",
        "        n_samples, n_features = X.shape\n",
        "        self.weights = np.zeros(n_features)\n",
        "        self.bias = 0\n",
        "        best_loss = np.inf # Arranco asumiendo que mi loss es infinita, asi cualquier resultado que obtenga resultará menor al inicial\n",
        "        patience_counter = 0 # Es un contador de cuántas iteraciones llevo sin mejorar mi loss\n",
        "\n",
        "        for i in range(self.n_iterations):\n",
        "            linear_model = X @ self.weights + self.bias\n",
        "            y_predicted = self._sigmoid(linear_model)\n",
        "            dw = (1 / n_samples) * (X.T @ (y_predicted - y))\n",
        "            db = (1 / n_samples) * np.sum(y_predicted - y)\n",
        "            self.weights -= self.learning_rate * dw\n",
        "            self.bias -= self.learning_rate * db\n",
        "\n",
        "            # Calcular loss y guardarla\n",
        "            current_loss = self.cross_entropy(X, y)\n",
        "            self.loss_historial.append(current_loss)\n",
        "\n",
        "            # Compruebo si hay que hacer un early stop\n",
        "            if self.patience is not None:\n",
        "                if current_loss < best_loss - self.min_delta:\n",
        "                    best_loss = current_loss\n",
        "                    patience_counter = 0\n",
        "                else:\n",
        "                    patience_counter += 1\n",
        "                    if patience_counter >= self.patience:\n",
        "                        if self.verbose:\n",
        "                            print(\"Se detuvieron las iteraciones\")\n",
        "                        break\n",
        "\n",
        "\n",
        "    # Etapa de testeo soft (se calcula indirectamente la probabilidad de ser par)\n",
        "    def predict_proba(self, X):\n",
        "        linear_model = X @ self.weights + self.bias\n",
        "        y_predicted = self._sigmoid(linear_model)\n",
        "        return y_predicted\n",
        "\n",
        "    # Etapa de testeo hard (se \"truncan\" las probabilidades)\n",
        "    def predict(self, X):\n",
        "        y_predicted = self.predict_proba(X)\n",
        "        y_predicted_cls = [1 if i > 0.5 else 0 for i in y_predicted]\n",
        "        return np.array(y_predicted_cls)\n",
        "\n",
        "    # Accuracy, básicamente la probabilidad de éxito\n",
        "    def accuracy(self, X, y):\n",
        "        y_predicted = self.predict(X)\n",
        "        accuracy = np.sum(y_predicted == y) / len(y)\n",
        "        return accuracy\n",
        "\n",
        "    #Cross-Entropy\n",
        "    def cross_entropy(self, X, y):\n",
        "        y_predicted = self.predict_proba(X)\n",
        "        # Hay que agregar una cte para que evitar el caso del log(0)\n",
        "        loss = -np.mean(y * np.log(y_predicted + self.cte) + (1 - y) * np.log(1 - y_predicted + self.cte))\n",
        "        return loss"
      ],
      "metadata": {
        "id": "pfAnt8FwyPSU"
      },
      "execution_count": 19,
      "outputs": []
    },
    {
      "cell_type": "markdown",
      "source": [
        "Se entrena el modelo con un $learning$ $rate$ y un número de iteraciones que otorguen buenos resultados"
      ],
      "metadata": {
        "id": "uiulohw614yv"
      }
    },
    {
      "cell_type": "code",
      "source": [
        "l_rate = 0.04\n",
        "n_iter = 700\n",
        "y_train_binary = (y_train % 2 == 0).astype(int)\n",
        "y_test_binary = (y_test % 2 == 0).astype(int)\n",
        "\n",
        "model_binary = RegresionLogistica(learning_rate=l_rate, n_iterations=n_iter)\n",
        "model_binary.fit(X_train_norm, y_train_binary)\n",
        "\n",
        "iters = np.arange(1, len(model_binary.loss_historial) + 1)\n",
        "\n",
        "plt.figure()\n",
        "plt.plot(iters, model_binary.loss_historial)\n",
        "plt.xlabel(\"Iteración\")\n",
        "plt.ylabel(\"Riesgo (Cross-Entropy)\")\n",
        "plt.title(\"Evolución del riesgo durante el entrenamiento\")\n",
        "plt.grid(True, which=\"both\", linestyle=\"--\", alpha=0.4)\n",
        "plt.show()"
      ],
      "metadata": {
        "id": "Ndgx7019fvN7"
      },
      "execution_count": null,
      "outputs": []
    },
    {
      "cell_type": "code",
      "source": [
        "# Reportar el accuracy y la cross entropy de entrenamiento y testeo.\n",
        "# Calculo las métricas de entrenamiento\n",
        "train_accuracy_binary = model_binary.accuracy(X_train_norm, y_train_binary)\n",
        "train_cross_entropy_binary = model_binary.cross_entropy(X_train_norm, y_train_binary)\n",
        "\n",
        "print(\"Accuracy de entrenamiento de la clasificación Paridad:\", train_accuracy_binary)\n",
        "print(\"Cross-Entropy de entrenamiento de la clasificación Paridad:\", train_cross_entropy_binary)\n",
        "\n",
        "# Calculo las métricas de testeo\n",
        "test_accuracy_binary = model_binary.accuracy(X_test_norm, y_test_binary)\n",
        "test_cross_entropy_binary = model_binary.cross_entropy(X_test_norm, y_test_binary)\n",
        "\n",
        "print(\"Accuracy de testeo de la clasificación Paridad:\", test_accuracy_binary)\n",
        "print(\"Cross-Entropy de testeo de la clasificación Paridad:\", test_cross_entropy_binary)"
      ],
      "metadata": {
        "id": "IbjSeSlQf0u6"
      },
      "execution_count": null,
      "outputs": []
    },
    {
      "cell_type": "code",
      "source": [
        "# Predecir las etiquetas binarias para el dataset de testeo\n",
        "y_predict_binary = model_binary.predict(X_test_norm)\n",
        "\n",
        "# Muestro imagenes de testeo y las etiquetas predichas\n",
        "fig, axes = plt.subplots(2, 5, figsize=(10, 5))\n",
        "axes = axes.flatten()\n",
        "\n",
        "# Genero 10 indices aleatorios para extraer del test set\n",
        "rnd_index = np.random.choice(len(x_test), size=10, replace=False)\n",
        "x_test_random = x_test[rnd_index]\n",
        "y_pred_random = y_predict_binary[rnd_index]\n",
        "\n",
        "for i, ax in enumerate(axes):\n",
        "    ax.imshow(x_test_random[i], cmap='gray')\n",
        "    ax.axis('off')\n",
        "    ax.set_title(f'({y_test[rnd_index[i]]}) Paridad: {bool(y_pred_random[i])}')\n",
        "\n",
        "plt.tight_layout()\n",
        "plt.show()"
      ],
      "metadata": {
        "id": "g5B6CfK2g6Xm"
      },
      "execution_count": null,
      "outputs": []
    },
    {
      "cell_type": "code",
      "source": [
        "# Calculo TPR y FPR para varios umbrales\n",
        "y_scores = model_binary.predict_proba(X_test_norm) # Probabilidades de ser par\n",
        "y_true = y_test_binary # etiquetas reales (0 si es par, 1 impar)\n",
        "# Ordeno\n",
        "y_true_sorted = y_true[np.argsort(y_scores)]\n",
        "y_scores_sorted = y_scores[np.argsort(y_scores)]\n",
        "# Uso los valores que se repiten como umbrales\n",
        "thresholds = np.unique(y_scores_sorted) #Conjunto de todos los valores únicos que predijo mi modelo\n",
        "\n",
        "tpr_list = []\n",
        "fpr_list = []\n",
        "cte = 1e-8\n",
        "\n",
        "# Calculo el total de instancias positivas (1 es par)\n",
        "tot_positivos = np.sum(y_true) # cant de nros pares en el test set\n",
        "tot_negativos = len(y_true) - tot_positivos # cant de impares en el test set\n",
        "\n",
        "\n",
        "for threshold in thresholds:\n",
        "    # Clasifico las muestras según el umbral\n",
        "    y_predicted_binary = (y_scores_sorted >= threshold).astype(int)\n",
        "\n",
        "    # Calculo TP, FP para este umbral\n",
        "    TP = np.sum((y_predicted_binary == 1) & (y_true_sorted == 1))\n",
        "    FP = np.sum((y_predicted_binary == 1) & (y_true_sorted == 0))\n",
        "\n",
        "    # Calculo TPR y FPR\n",
        "    # Agrego la cte para no dividr por 0\n",
        "    tpr = TP / (tot_positivos + cte)\n",
        "    fpr = FP / (tot_negativos + cte)\n",
        "\n",
        "    tpr_list.append(tpr)\n",
        "    fpr_list.append(fpr)\n",
        "\n",
        "# Ordeno para luego graficar\n",
        "sorted_indices = np.argsort(fpr_list)\n",
        "fpr_sorted = np.array(fpr_list)[sorted_indices]\n",
        "tpr_sorted = np.array(tpr_list)[sorted_indices]\n",
        "\n",
        "# Agrego los puntos (0,0) y (1,1)\n",
        "if fpr_sorted[0] > 0 or tpr_sorted[0] > 0:\n",
        "    fpr_sorted = np.insert(fpr_sorted, 0, 0)\n",
        "    tpr_sorted = np.insert(tpr_sorted, 0, 0)\n",
        "\n",
        "if fpr_sorted[-1] < 1 or tpr_sorted[-1] < 1:\n",
        "     fpr_sorted = np.append(fpr_sorted, 1)\n",
        "     tpr_sorted = np.append(tpr_sorted, 1)"
      ],
      "metadata": {
        "id": "__rGWoQ3hLGg"
      },
      "execution_count": null,
      "outputs": []
    },
    {
      "cell_type": "code",
      "source": [
        "# Curva ROC ploteada\n",
        "plt.figure(figsize=(6, 6))\n",
        "plt.plot(fpr_sorted, tpr_sorted, color='navy', lw=2, label='Curva ROC')\n",
        "plt.plot([0, 1], [0, 1], color='red', lw=2, linestyle='--', label='Clasificador Aleatorio')\n",
        "plt.scatter(0, 1, color='green', label='Perfect Classifier')\n",
        "plt.xlim([0.0, 1.0])\n",
        "plt.ylim([0.0, 1.05])\n",
        "plt.xlabel('False Positive Rate')\n",
        "plt.ylabel('True Positive Rate')\n",
        "plt.title('Receiver Operating Characteristic (ROC)')\n",
        "plt.legend(loc=\"lower right\")\n",
        "plt.grid()\n",
        "plt.tight_layout()\n",
        "plt.show()"
      ],
      "metadata": {
        "id": "wtFWDqNthSe-"
      },
      "execution_count": null,
      "outputs": []
    }
  ]
}